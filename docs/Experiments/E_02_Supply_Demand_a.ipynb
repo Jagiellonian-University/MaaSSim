{
 "cells": [
  {
   "cell_type": "markdown",
   "metadata": {},
   "source": [
    "##### >\n",
    "> # MaaSSim tutorial\n",
    "\n",
    " ### parallel simulations"
   ]
  },
  {
   "cell_type": "code",
   "execution_count": 76,
   "metadata": {},
   "outputs": [
    {
     "name": "stdout",
     "output_type": "stream",
     "text": [
      "The autoreload extension is already loaded. To reload it, use:\n",
      "  %reload_ext autoreload\n"
     ]
    }
   ],
   "source": [
    "%load_ext autoreload\n",
    "%autoreload 2"
   ]
  },
  {
   "cell_type": "code",
   "execution_count": 2,
   "metadata": {},
   "outputs": [],
   "source": [
    "import os, sys # add MaaSSim to path (not needed if MaaSSim is already in path)\n",
    "import seaborn as sns\n",
    "import matplotlib.pyplot as plt\n",
    "from dotmap import DotMap\n",
    "module_path = os.path.abspath(os.path.join('../..'))\n",
    "if module_path not in sys.path:\n",
    "    sys.path.append(module_path)"
   ]
  },
  {
   "cell_type": "markdown",
   "metadata": {},
   "source": [
    "prepare"
   ]
  },
  {
   "cell_type": "code",
   "execution_count": 3,
   "metadata": {},
   "outputs": [],
   "source": [
    "from MaaSSim.utils import get_config, load_G, prep_supply_and_demand, collect_results  # simulator\n",
    "from MaaSSim.data_structures import structures as inData\n",
    "from MaaSSim.simulators import simulate, simulate_parallel\n",
    "from MaaSSim.traveller import travellerEvent\n",
    "from MaaSSim.driver import driverEvent"
   ]
  },
  {
   "cell_type": "code",
   "execution_count": 4,
   "metadata": {},
   "outputs": [],
   "source": [
    "params = get_config('../../data/config/delft.json')  # load configuration"
   ]
  },
  {
   "cell_type": "code",
   "execution_count": 5,
   "metadata": {},
   "outputs": [],
   "source": [
    "params.paths.dumps = 'sd'\n",
    "params.times.patience = 1200\n",
    "params.simTime = 4\n",
    "params.parallel.nThread = 4\n",
    "params.parallel.nReplications = 10"
   ]
  },
  {
   "cell_type": "code",
   "execution_count": 6,
   "metadata": {},
   "outputs": [],
   "source": [
    "inData = load_G(inData, params)  # load network graph "
   ]
  },
  {
   "cell_type": "code",
   "execution_count": 7,
   "metadata": {},
   "outputs": [
    {
     "data": {
      "text/plain": [
       "{'nP': [50,\n",
       "  100,\n",
       "  150,\n",
       "  200,\n",
       "  250,\n",
       "  300,\n",
       "  350,\n",
       "  400,\n",
       "  450,\n",
       "  500,\n",
       "  550,\n",
       "  600,\n",
       "  650,\n",
       "  700,\n",
       "  750,\n",
       "  800,\n",
       "  850,\n",
       "  900,\n",
       "  950,\n",
       "  1000],\n",
       " 'nV': [20, 40, 60, 80, 100, 120, 140, 160, 180, 200]}"
      ]
     },
     "execution_count": 7,
     "metadata": {},
     "output_type": "execute_result"
    }
   ],
   "source": [
    "space = DotMap()\n",
    "space.nP = list(range(50,1001,50))\n",
    "space.nV = list(range(20,201,20))\n",
    "dict(space)"
   ]
  },
  {
   "cell_type": "markdown",
   "metadata": {},
   "source": [
    "simulate\n",
    "\n",
    "## ! this will take one hour ! "
   ]
  },
  {
   "cell_type": "code",
   "execution_count": 7,
   "metadata": {},
   "outputs": [],
   "source": [
    "simulate_parallel(params = params, search_space = space)"
   ]
  },
  {
   "cell_type": "markdown",
   "metadata": {},
   "source": [
    "### collect"
   ]
  },
  {
   "cell_type": "markdown",
   "metadata": {},
   "source": [
    "demand structure"
   ]
  },
  {
   "cell_type": "code",
   "execution_count": 45,
   "metadata": {},
   "outputs": [],
   "source": [
    "res = collect_results(params.paths.dumps)"
   ]
  },
  {
   "cell_type": "code",
   "execution_count": 75,
   "metadata": {},
   "outputs": [
    {
     "data": {
      "image/png": "[encoded data removed]",
      "text/plain": [
       "<Figure size 432x288 with 3 Axes>"
      ]
     },
     "metadata": {},
     "output_type": "display_data"
    }
   ],
   "source": [
    "plt.rcParams[\"font.family\"] = \"Times\"\n",
    "plt.style.use('seaborn-whitegrid')\n",
    "font = {'size'   : 10}\n",
    "\n",
    "plt.rc('font', **font)\n",
    "fig, axes = plt.subplots(1,2, figsize = (6,4), sharey = True, sharex = True)\n",
    "axes = axes.flatten()\n",
    "veh_kpis = res.veh_kpi\n",
    "veh_kpis = veh_kpis[veh_kpis['Unnamed: 0']== 'mean']\n",
    "veh_kpis['demand'] = veh_kpis.nP.astype(int) // 100 * 100\n",
    "veh_kpis['demand'] = veh_kpis.demand.apply(lambda x: 50 if x == 0 else x)\n",
    "veh_kpis['fleet size'] = veh_kpis.nV.astype(int) \n",
    "veh_kpis['y'] = 800-veh_kpis.IS_ACCEPTED_BY_TRAVELLER\n",
    "veh_kpis = veh_kpis.groupby(['fleet size','demand'])['y'].mean().unstack()\n",
    "#veh_kpis= veh_kpis.pivot(index = 'supply', columns = 'demand', values = 'y')\n",
    "cbar_ax = fig.add_axes([1.0, .2, .02, .6])\n",
    "sns.heatmap(veh_kpis, cmap=\"Blues\", ax = axes[1], square = True, cbar = True, cbar_ax = cbar_ax)\n",
    "pax_kpi = res.pax_kpi\n",
    "pax_kpi = pax_kpi[pax_kpi['Unnamed: 0']== 'mean']\n",
    "pax_kpi['demand'] = pax_kpi.nP.astype(int) // 100 * 100\n",
    "pax_kpi['demand'] = pax_kpi.demand.apply(lambda x: 50 if x == 0 else x)\n",
    "pax_kpi = pax_kpi[pax_kpi['demand']>100]\n",
    "pax_kpi['fleet size'] = pax_kpi.nV.astype(int) \n",
    "pax_kpi['y'] = pax_kpi.LOSES_PATIENCE/2+pax_kpi.MEETS_DRIVER_AT_PICKUP\n",
    "pax_kpi = pax_kpi.groupby(['fleet size','demand'])['y'].mean().unstack()\n",
    "#pax_kpi= pax_kpi.pivot(index = 'supply', columns = 'demand', values = 'y')\n",
    "\n",
    "sns.heatmap(pax_kpi, cmap=\"Blues\", ax = axes[0], square = True, cbar = False)\n",
    "pax_kpi.round(-1).astype(int)\n",
    "plt.suptitle('Mean waiting times [s]',  fontsize = 15)\n",
    "axes[1].set_title('for drivers')\n",
    "axes[1].set_ylabel('')\n",
    "axes[0].set_title('for travellers')\n",
    "#plt.tight_layout()\n",
    "plt.savefig('fig5.tif',dpi =300)"
   ]
  },
  {
   "cell_type": "code",
   "execution_count": null,
   "metadata": {},
   "outputs": [],
   "source": [
    "veh_kpis = res.veh_kpi\n",
    "veh_kpis = veh_kpis[veh_kpis['Unnamed: 0']== 'mean']\n",
    "veh_kpis"
   ]
  },
  {
   "cell_type": "markdown",
   "metadata": {},
   "source": [
    "-------------\n",
    "Rafal Kucharski, 2020, Delft, r.m.kucharski@tudelft.nl"
   ]
  }
 ],
 "metadata": {
  "kernelspec": {
   "display_name": "Python 3",
   "language": "python",
   "name": "python3"
  },
  "language_info": {
   "codemirror_mode": {
    "name": "ipython",
    "version": 3
   },
   "file_extension": ".py",
   "mimetype": "text/x-python",
   "name": "python",
   "nbconvert_exporter": "python",
   "pygments_lexer": "ipython3",
   "version": "3.8.8"
  }
 },
 "nbformat": 4,
 "nbformat_minor": 4
}
