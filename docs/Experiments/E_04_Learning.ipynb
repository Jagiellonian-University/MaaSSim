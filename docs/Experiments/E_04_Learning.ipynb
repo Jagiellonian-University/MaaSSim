{
 "cells": [
  {
   "cell_type": "markdown",
   "metadata": {
    "tags": []
   },
   "source": [
    ">\n",
    "> # MaaS Sim tutorial\n",
    ">\n",
    "> ## Reinforced learning\n",
    ">\n",
    "-----\n",
    "test how vehicle and driver rejects requests and how to control it via extrnal functions passed to simulator"
   ]
  },
  {
   "cell_type": "markdown",
   "metadata": {},
   "source": [
    "import simulator"
   ]
  },
  {
   "cell_type": "code",
   "execution_count": 2,
   "metadata": {},
   "outputs": [],
   "source": [
    "%load_ext autoreload\n",
    "%autoreload 2\n",
    "import os, sys # add MaaSSim to path (not needed if MaaSSim is already in path)\n",
    "module_path = os.path.abspath(os.path.join('../..'))\n",
    "if module_path not in sys.path:\n",
    "    sys.path.append(module_path)\n",
    "import random\n",
    "import logging\n",
    "import pandas as pd\n",
    "import seaborn as sns"
   ]
  },
  {
   "cell_type": "code",
   "execution_count": 3,
   "metadata": {},
   "outputs": [],
   "source": [
    "from MaaSSim.utils import get_config, load_G, prep_supply_and_demand  # simulator\n",
    "from MaaSSim.traveller import travellerEvent\n",
    "from MaaSSim.driver import driverEvent\n",
    "from MaaSSim.data_structures import structures as inData\n",
    "from MaaSSim.simulators import simulate\n",
    "from MaaSSim.decisions import f_stop_crit"
   ]
  },
  {
   "cell_type": "code",
   "execution_count": 4,
   "metadata": {},
   "outputs": [],
   "source": [
    "params = get_config('../../data/config/default.json')  # load configuration"
   ]
  },
  {
   "cell_type": "code",
   "execution_count": 5,
   "metadata": {},
   "outputs": [],
   "source": [
    "params.times.patience = 120 # 1 hour of simulation\n",
    "params.simTime = 4 # 1 hour of simulation\n",
    "params.nP = 100 # reuqests (and passengers)\n",
    "params.nV = 100 # vehicles\n",
    "params.nD = 30"
   ]
  },
  {
   "cell_type": "markdown",
   "metadata": {},
   "source": [
    "user defined function to decide whether driver is active on a given day, based on previous experience"
   ]
  },
  {
   "cell_type": "code",
   "execution_count": 6,
   "metadata": {},
   "outputs": [],
   "source": [
    "def f_my_driver_out(*args, **kwargs):\n",
    "    # returns boolean True if vehicle decides to opt out\n",
    "    leave_threshold = 0.25\n",
    "    back_threshold = 0.5\n",
    "    unserved_threshold = 0.005\n",
    "    anneal = 0.2\n",
    "\n",
    "    veh = kwargs.get('veh', None)  # input\n",
    "    sim = veh.sim  # input\n",
    "    flag = False  # output \n",
    "    if len(sim.runs) == 0: # first day\n",
    "        msg = 'veh {} stays on'.format(veh.id) \n",
    "    else: \n",
    "        last_run = sim.run_ids[-1]\n",
    "        avg_yesterday = sim.res[last_run].veh_exp.nRIDES.quantile(\n",
    "            back_threshold)  # how many rides was there on average\n",
    "        quant_yesterday = sim.res[last_run].veh_exp.nRIDES.quantile(\n",
    "            leave_threshold)  # what was the lower quantile of rides\n",
    "\n",
    "        prev_rides = pd.Series([sim.res[_].veh_exp.loc[veh.id].nRIDES for _ in\n",
    "                                sim.run_ids]).mean()  # how many rides did I have on average before\n",
    "\n",
    "        rides_yesterday = sim.res[last_run].veh_exp.loc[veh.id].nRIDES # how many rides did I have yesterday\n",
    "\n",
    "        unserved_demand_yesterday = sim.res[last_run].pax_exp[sim.res[last_run].pax_exp.LOSES_PATIENCE > 0].shape[0] / \\\n",
    "                                    sim.res[last_run].pax_exp.shape[0]  # what is the share of unserved demand\n",
    "        did_i_work_yesterday = sim.res[last_run].veh_exp.loc[veh.id].ENDS_SHIFT > 0 \n",
    "\n",
    "        if not did_i_work_yesterday:\n",
    "            if avg_yesterday < prev_rides:\n",
    "                msg = 'veh {} stays out'.format(veh.id)\n",
    "                flag = True\n",
    "            elif unserved_demand_yesterday > unserved_threshold:\n",
    "                if random.random() < anneal:\n",
    "                    msg = 'veh {} comes to serve unserved'.format(veh.id)\n",
    "                    flag = False\n",
    "                else:\n",
    "                    msg = 'veh {} someone else come to serve unserved'.format(veh.id)\n",
    "                    flag = False\n",
    "            else:\n",
    "                msg = 'veh {} comes back'.format(veh.id)\n",
    "                flag = False\n",
    "\n",
    "            pass\n",
    "        else:\n",
    "            if rides_yesterday > quant_yesterday:\n",
    "                msg = 'veh {} stays in'.format(veh.id)\n",
    "                flag = False\n",
    "            else:\n",
    "                msg = 'veh {} leaves'.format(veh.id)\n",
    "                flag = True\n",
    "\n",
    "    sim.logger.info('DRIVER OUT: ' + msg)\n",
    "    return flag"
   ]
  },
  {
   "cell_type": "code",
   "execution_count": 7,
   "metadata": {},
   "outputs": [
    {
     "name": "stdout",
     "output_type": "stream",
     "text": [
      "repl 0\n",
      "repl 1\n",
      "repl 2\n",
      "repl 3\n",
      "repl 4\n",
      "repl 5\n",
      "repl 6\n",
      "repl 7\n",
      "repl 8\n",
      "repl 9\n"
     ]
    }
   ],
   "source": [
    "ret = list()\n",
    "for i in range(10):\n",
    "    print('repl',i)\n",
    "    sim = simulate(params = params, f_driver_out = f_my_driver_out, f_stop_crit = f_stop_crit, logger_level = logging.CRITICAL)\n",
    "    ret.append([sim.res[_].veh_exp[sim.res[_].veh_exp.ENDS_SHIFT>0].shape[0] for _ in sim.run_ids])"
   ]
  },
  {
   "cell_type": "code",
   "execution_count": 17,
   "metadata": {},
   "outputs": [
    {
     "data": {
      "image/png": "[encoded data removed]",
      "text/plain": [
       "<Figure size 432x216 with 1 Axes>"
      ]
     },
     "metadata": {},
     "output_type": "display_data"
    }
   ],
   "source": [
    "import matplotlib.pyplot as plt\n",
    "fig, ax = plt.subplots(figsize=(6,3))\n",
    "plt.rcParams[\"font.family\"] = \"Times\"\n",
    "plt.style.use('seaborn-whitegrid')\n",
    "df = pd.DataFrame(ret)\n",
    "df = df.T.fillna(method = 'ffill')\n",
    "i=0\n",
    "for col in df.columns:    \n",
    "    df[col].plot(lw = 1, alpha = 1,style='.-', ax = ax, color = sns.color_palette('husl',12)[i])\n",
    "    i+=1\n",
    "#df.T.mean().plot(lw = 1, color = 'black', ax = ax)\n",
    "ax.set_ylim(0,100)\n",
    "ax.set_xlim(0,15)\n",
    "ax.set_ylabel('fleet size [veh]')\n",
    "ax.set_xlabel('day')\n",
    "fig.tight_layout()\n",
    "plt.savefig('fig7.tif', dpi = 300)"
   ]
  },
  {
   "cell_type": "markdown",
   "metadata": {},
   "source": [
    "-------------\n",
    "Rafal Kucharski, 2020, Delft, r.m.kucharski@tudelft.nl"
   ]
  }
 ],
 "metadata": {
  "kernelspec": {
   "display_name": "Python 3",
   "language": "python",
   "name": "python3"
  },
  "language_info": {
   "codemirror_mode": {
    "name": "ipython",
    "version": 3
   },
   "file_extension": ".py",
   "mimetype": "text/x-python",
   "name": "python",
   "nbconvert_exporter": "python",
   "pygments_lexer": "ipython3",
   "version": "3.8.8"
  }
 },
 "nbformat": 4,
 "nbformat_minor": 4
}
