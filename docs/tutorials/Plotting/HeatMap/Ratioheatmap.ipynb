{
 "cells": [
  {
   "cell_type": "markdown",
   "id": "e4d5a064",
   "metadata": {},
   "source": [
    "# loading Pooled Rides and Solo-Rides"
   ]
  },
  {
   "cell_type": "code",
   "execution_count": 27,
   "id": "70f2b627",
   "metadata": {},
   "outputs": [
    {
     "name": "stdout",
     "output_type": "stream",
     "text": [
      "    0   100   200   300   400   500\n",
      "0   5  28.9  18.5  10.6   8.2   8.2\n",
      "1  10  92.0  44.5  30.0  17.0  14.2\n",
      "2  20  91.0  90.5  66.3  42.2  27.4\n",
      "3  30  99.8  99.5  97.6  85.5  56.6\n",
      "4  40  99.0  99.5  98.6  98.0  82.2\n",
      "5  50  98.0  99.0  99.6  98.0  98.0\n",
      "    0  100   200    300    400   500\n",
      "0   5   34  16.5  16.00   7.50   6.6\n",
      "1  10   88  47.0  17.00  19.25  14.0\n",
      "2  20   98  87.5  58.66  35.75  28.9\n",
      "3  30   98  99.5  99.00  69.00  59.3\n",
      "4  40   99  98.5  99.30  96.75  83.0\n",
      "5  50   99  97.5  98.00  98.75  89.2\n"
     ]
    }
   ],
   "source": [
    "import pandas as pd\n",
    "\n",
    "PR = pd.read_csv('Pooled-Rides.csv')\n",
    "print(PR)\n",
    "SR = pd.read_csv('Solo-Rides.csv')\n",
    "print(SR)\n"
   ]
  },
  {
   "cell_type": "code",
   "execution_count": 40,
   "id": "1f4ec91f-eca0-43bb-bd82-9d2784d19cff",
   "metadata": {},
   "outputs": [],
   "source": [
    "dataFrame1 = pd.DataFrame(data=PR);\n",
    "\n",
    "dataFrame2 = pd.DataFrame(data=SR);"
   ]
  },
  {
   "cell_type": "code",
   "execution_count": 41,
   "id": "d1fed79f-7457-4c7b-9c85-7e66adb8d3c1",
   "metadata": {},
   "outputs": [],
   "source": [
    "# Divide the DataFrame1 elements by the elements of DataFrame2\n",
    "\n",
    "divisionResults = dataFrame1.div(dataFrame2);"
   ]
  },
  {
   "cell_type": "code",
   "execution_count": 42,
   "id": "446ede82-e7c0-4379-86a1-36fffe0d92ca",
   "metadata": {},
   "outputs": [
    {
     "name": "stdout",
     "output_type": "stream",
     "text": [
      "Elements of DataFrame1:\n",
      "    0   100   200   300   400   500\n",
      "0   5  28.9  18.5  10.6   8.2   8.2\n",
      "1  10  92.0  44.5  30.0  17.0  14.2\n",
      "2  20  91.0  90.5  66.3  42.2  27.4\n",
      "3  30  99.8  99.5  97.6  85.5  56.6\n",
      "4  40  99.0  99.5  98.6  98.0  82.2\n",
      "5  50  98.0  99.0  99.6  98.0  98.0\n"
     ]
    }
   ],
   "source": [
    "print(\"Elements of DataFrame1:\")\n",
    "\n",
    "print(dataFrame1);"
   ]
  },
  {
   "cell_type": "code",
   "execution_count": 43,
   "id": "5cdd036f-9aea-4e4c-a0b4-1659c186efe9",
   "metadata": {},
   "outputs": [
    {
     "name": "stdout",
     "output_type": "stream",
     "text": [
      "Elements of DataFrame2:\n",
      "    0  100   200    300    400   500\n",
      "0   5   34  16.5  16.00   7.50   6.6\n",
      "1  10   88  47.0  17.00  19.25  14.0\n",
      "2  20   98  87.5  58.66  35.75  28.9\n",
      "3  30   98  99.5  99.00  69.00  59.3\n",
      "4  40   99  98.5  99.30  96.75  83.0\n",
      "5  50   99  97.5  98.00  98.75  89.2\n"
     ]
    }
   ],
   "source": [
    "print(\"Elements of DataFrame2:\")\n",
    "\n",
    "print(dataFrame2);"
   ]
  },
  {
   "cell_type": "code",
   "execution_count": 44,
   "id": "cce9e5fd-6c71-4181-b590-42bdf9061a76",
   "metadata": {},
   "outputs": [
    {
     "name": "stdout",
     "output_type": "stream",
     "text": [
      "DataFrame1 elements divided by DataFrame2 elements:\n",
      "     0       100       200       300       400       500\n",
      "0  1.0  0.850000  1.121212  0.662500  1.093333  1.242424\n",
      "1  1.0  1.045455  0.946809  1.764706  0.883117  1.014286\n",
      "2  1.0  0.928571  1.034286  1.130242  1.180420  0.948097\n",
      "3  1.0  1.018367  1.000000  0.985859  1.239130  0.954469\n",
      "4  1.0  1.000000  1.010152  0.992951  1.012920  0.990361\n",
      "5  1.0  0.989899  1.015385  1.016327  0.992405  1.098655\n"
     ]
    }
   ],
   "source": [
    "print(\"DataFrame1 elements divided by DataFrame2 elements:\")\n",
    "\n",
    "print(divisionResults);"
   ]
  },
  {
   "cell_type": "code",
   "execution_count": 45,
   "id": "a04c836a-0d41-49b1-a5e8-6c326b18697e",
   "metadata": {},
   "outputs": [],
   "source": [
    "OR1 = pd.DataFrame(divisionResults)"
   ]
  },
  {
   "cell_type": "code",
   "execution_count": 46,
   "id": "1a0b5344-0443-42ec-8232-8e8a1a030fef",
   "metadata": {},
   "outputs": [
    {
     "data": {
      "text/html": [
       "<div>\n",
       "<style scoped>\n",
       "    .dataframe tbody tr th:only-of-type {\n",
       "        vertical-align: middle;\n",
       "    }\n",
       "\n",
       "    .dataframe tbody tr th {\n",
       "        vertical-align: top;\n",
       "    }\n",
       "\n",
       "    .dataframe thead th {\n",
       "        text-align: right;\n",
       "    }\n",
       "</style>\n",
       "<table border=\"1\" class=\"dataframe\">\n",
       "  <thead>\n",
       "    <tr style=\"text-align: right;\">\n",
       "      <th></th>\n",
       "      <th>0</th>\n",
       "      <th>100</th>\n",
       "      <th>200</th>\n",
       "      <th>300</th>\n",
       "      <th>400</th>\n",
       "      <th>500</th>\n",
       "    </tr>\n",
       "  </thead>\n",
       "  <tbody>\n",
       "    <tr>\n",
       "      <th>0</th>\n",
       "      <td>1.0</td>\n",
       "      <td>0.850000</td>\n",
       "      <td>1.121212</td>\n",
       "      <td>0.662500</td>\n",
       "      <td>1.093333</td>\n",
       "      <td>1.242424</td>\n",
       "    </tr>\n",
       "    <tr>\n",
       "      <th>1</th>\n",
       "      <td>1.0</td>\n",
       "      <td>1.045455</td>\n",
       "      <td>0.946809</td>\n",
       "      <td>1.764706</td>\n",
       "      <td>0.883117</td>\n",
       "      <td>1.014286</td>\n",
       "    </tr>\n",
       "    <tr>\n",
       "      <th>2</th>\n",
       "      <td>1.0</td>\n",
       "      <td>0.928571</td>\n",
       "      <td>1.034286</td>\n",
       "      <td>1.130242</td>\n",
       "      <td>1.180420</td>\n",
       "      <td>0.948097</td>\n",
       "    </tr>\n",
       "    <tr>\n",
       "      <th>3</th>\n",
       "      <td>1.0</td>\n",
       "      <td>1.018367</td>\n",
       "      <td>1.000000</td>\n",
       "      <td>0.985859</td>\n",
       "      <td>1.239130</td>\n",
       "      <td>0.954469</td>\n",
       "    </tr>\n",
       "    <tr>\n",
       "      <th>4</th>\n",
       "      <td>1.0</td>\n",
       "      <td>1.000000</td>\n",
       "      <td>1.010152</td>\n",
       "      <td>0.992951</td>\n",
       "      <td>1.012920</td>\n",
       "      <td>0.990361</td>\n",
       "    </tr>\n",
       "    <tr>\n",
       "      <th>5</th>\n",
       "      <td>1.0</td>\n",
       "      <td>0.989899</td>\n",
       "      <td>1.015385</td>\n",
       "      <td>1.016327</td>\n",
       "      <td>0.992405</td>\n",
       "      <td>1.098655</td>\n",
       "    </tr>\n",
       "  </tbody>\n",
       "</table>\n",
       "</div>"
      ],
      "text/plain": [
       "     0       100       200       300       400       500\n",
       "0  1.0  0.850000  1.121212  0.662500  1.093333  1.242424\n",
       "1  1.0  1.045455  0.946809  1.764706  0.883117  1.014286\n",
       "2  1.0  0.928571  1.034286  1.130242  1.180420  0.948097\n",
       "3  1.0  1.018367  1.000000  0.985859  1.239130  0.954469\n",
       "4  1.0  1.000000  1.010152  0.992951  1.012920  0.990361\n",
       "5  1.0  0.989899  1.015385  1.016327  0.992405  1.098655"
      ]
     },
     "execution_count": 46,
     "metadata": {},
     "output_type": "execute_result"
    }
   ],
   "source": [
    "OR1"
   ]
  },
  {
   "cell_type": "code",
   "execution_count": 48,
   "id": "0213eb53-9a75-4cd8-af64-32ae0752529b",
   "metadata": {},
   "outputs": [
    {
     "data": {
      "text/plain": [
       "Text(6.800000000000008, 0.5, 'number of Drivers')"
      ]
     },
     "execution_count": 48,
     "metadata": {},
     "output_type": "execute_result"
    },
    {
     "data": {
      "image/png": "[encoded data removed]",
      "text/plain": [
       "<Figure size 432x252 with 2 Axes>"
      ]
     },
     "metadata": {
      "needs_background": "light"
     },
     "output_type": "display_data"
    }
   ],
   "source": [
    "import matplotlib.pyplot as plt\n",
    "import numpy as np\n",
    "import pandas as pd\n",
    "import seaborn as sns\n",
    "plt.rcParams[\"figure.figsize\"] = [6, 3.50]\n",
    "plt.rcParams[\"figure.autolayout\"] = True\n",
    "\n",
    "\n",
    "#s = sns.heatmap(profitmax, annot=True,  cmap='viridis', ax=ax1)\n",
    "\n",
    "plt.title('Profit-Maximization/SoloRides Ratio')\n",
    "sns.heatmap(data = OR1,annot=True,cmap='viridis')\n",
    "plt.xlabel('number of Travellers',fontsize=13)\n",
    "plt.ylabel('number of Drivers',fontsize=13)"
   ]
  },
  {
   "cell_type": "code",
   "execution_count": null,
   "id": "46f979ff-6e23-48fe-a2ff-dc9b28218e6e",
   "metadata": {},
   "outputs": [],
   "source": []
  },
  {
   "cell_type": "code",
   "execution_count": null,
   "id": "5be7da8f-e092-45dc-b603-353a9a13eca1",
   "metadata": {},
   "outputs": [],
   "source": []
  },
  {
   "cell_type": "code",
   "execution_count": null,
   "id": "59cdd7dc-e5dc-4232-b082-5acbc639ab38",
   "metadata": {},
   "outputs": [],
   "source": []
  },
  {
   "cell_type": "markdown",
   "id": "2a3e5c24",
   "metadata": {},
   "source": [
    "# creating dictionary for ratios"
   ]
  },
  {
   "cell_type": "code",
   "execution_count": 28,
   "id": "d02c4038",
   "metadata": {},
   "outputs": [
    {
     "name": "stdout",
     "output_type": "stream",
     "text": [
      "[0    1.0\n",
      "1    1.0\n",
      "2    1.0\n",
      "3    1.0\n",
      "4    1.0\n",
      "5    1.0\n",
      "Name: 0, dtype: float64, 0    0.850000\n",
      "1    1.045455\n",
      "2    0.928571\n",
      "3    1.018367\n",
      "4    1.000000\n",
      "5    0.989899\n",
      "Name: 100, dtype: float64, 0    1.121212\n",
      "1    0.946809\n",
      "2    1.034286\n",
      "3    1.000000\n",
      "4    1.010152\n",
      "5    1.015385\n",
      "Name: 200, dtype: float64, 0    0.662500\n",
      "1    1.764706\n",
      "2    1.130242\n",
      "3    0.985859\n",
      "4    0.992951\n",
      "5    1.016327\n",
      "Name: 300, dtype: float64, 0    1.093333\n",
      "1    0.883117\n",
      "2    1.180420\n",
      "3    1.239130\n",
      "4    1.012920\n",
      "5    0.992405\n",
      "Name: 400, dtype: float64, 0    1.242424\n",
      "1    1.014286\n",
      "2    0.948097\n",
      "3    0.954469\n",
      "4    0.990361\n",
      "5    1.098655\n",
      "Name: 500, dtype: float64]\n"
     ]
    },
    {
     "data": {
      "text/plain": [
       "{'0': 0    1.242424\n",
       " 1    1.014286\n",
       " 2    0.948097\n",
       " 3    0.954469\n",
       " 4    0.990361\n",
       " 5    1.098655\n",
       " Name: 500, dtype: float64,\n",
       " '100': 0    1.242424\n",
       " 1    1.014286\n",
       " 2    0.948097\n",
       " 3    0.954469\n",
       " 4    0.990361\n",
       " 5    1.098655\n",
       " Name: 500, dtype: float64,\n",
       " '200': 0    1.242424\n",
       " 1    1.014286\n",
       " 2    0.948097\n",
       " 3    0.954469\n",
       " 4    0.990361\n",
       " 5    1.098655\n",
       " Name: 500, dtype: float64,\n",
       " '300': 0    1.242424\n",
       " 1    1.014286\n",
       " 2    0.948097\n",
       " 3    0.954469\n",
       " 4    0.990361\n",
       " 5    1.098655\n",
       " Name: 500, dtype: float64,\n",
       " '400': 0    1.242424\n",
       " 1    1.014286\n",
       " 2    0.948097\n",
       " 3    0.954469\n",
       " 4    0.990361\n",
       " 5    1.098655\n",
       " Name: 500, dtype: float64,\n",
       " '500': 0    1.242424\n",
       " 1    1.014286\n",
       " 2    0.948097\n",
       " 3    0.954469\n",
       " 4    0.990361\n",
       " 5    1.098655\n",
       " Name: 500, dtype: float64}"
      ]
     },
     "execution_count": 28,
     "metadata": {},
     "output_type": "execute_result"
    }
   ],
   "source": [
    "import pandas as pd\n",
    "import numpy as np\n",
    "ratioL=[]\n",
    "CL=['0','100','200','300','400','500']\n",
    "for i in range(len(CL)):\n",
    "    col1 = PR[CL[i]]\n",
    "    col2 = SR[CL[i]]\n",
    "\n",
    "    ratio = np.divide(col1, col2)\n",
    "    ratioL.append(ratio)\n",
    "   \n",
    "print(ratioL)\n",
    "dct={}\n",
    "for c in CL:\n",
    "    for v in ratioL:\n",
    "        dct[c]=v\n",
    "dct\n"
   ]
  },
  {
   "cell_type": "markdown",
   "id": "c0e599dd",
   "metadata": {},
   "source": [
    "# creating DataFrame for Ratios"
   ]
  },
  {
   "cell_type": "code",
   "execution_count": 29,
   "id": "091d8627",
   "metadata": {},
   "outputs": [
    {
     "name": "stdout",
     "output_type": "stream",
     "text": [
      "          0       100       200       300       400       500\n",
      "0  1.242424  1.242424  1.242424  1.242424  1.242424  1.242424\n",
      "1  1.014286  1.014286  1.014286  1.014286  1.014286  1.014286\n",
      "2  0.948097  0.948097  0.948097  0.948097  0.948097  0.948097\n",
      "3  0.954469  0.954469  0.954469  0.954469  0.954469  0.954469\n",
      "4  0.990361  0.990361  0.990361  0.990361  0.990361  0.990361\n",
      "5  1.098655  1.098655  1.098655  1.098655  1.098655  1.098655\n"
     ]
    }
   ],
   "source": [
    "OR1 = pd.DataFrame(dct)\n",
    "print(OR1)\n",
    "# OR1 is PooledRides/SoloRides "
   ]
  },
  {
   "cell_type": "markdown",
   "id": "623f81c3",
   "metadata": {},
   "source": [
    "# Reading Profit Maximization and Solo File"
   ]
  },
  {
   "cell_type": "code",
   "execution_count": 30,
   "id": "e932aea2",
   "metadata": {},
   "outputs": [
    {
     "name": "stdout",
     "output_type": "stream",
     "text": [
      "    0   100   200   300   400   500\n",
      "0   5  28.9  18.5  10.6   8.2   8.2\n",
      "1  10  92.0  44.5  30.0  17.0  14.2\n",
      "2  20  91.0  90.5  66.3  42.2  27.4\n",
      "3  30  99.8  99.5  97.6  85.5  56.6\n",
      "4  40  99.0  99.5  98.6  98.0  82.2\n",
      "5  50  98.0  99.0  99.6  98.0  98.0\n",
      "    0  100   200    300    400   500\n",
      "0   5   34  16.5  16.00   7.50   6.6\n",
      "1  10   88  47.0  17.00  19.25  14.0\n",
      "2  20   98  87.5  58.66  35.75  28.9\n",
      "3  30   98  99.5  99.00  69.00  59.3\n",
      "4  40   99  98.5  99.30  96.75  83.0\n",
      "5  50   99  97.5  98.00  98.75  89.2\n"
     ]
    }
   ],
   "source": [
    "PMR = pd.read_csv('Profit-Maximization.csv')\n",
    "print(PR)\n",
    "SR = pd.read_csv('Solo-Rides.csv')\n",
    "print(SR)"
   ]
  },
  {
   "cell_type": "markdown",
   "id": "a6e3e5fc",
   "metadata": {},
   "source": [
    "# creating Dictionary for ratios"
   ]
  },
  {
   "cell_type": "code",
   "execution_count": 31,
   "id": "2083211d",
   "metadata": {},
   "outputs": [
    {
     "name": "stdout",
     "output_type": "stream",
     "text": [
      "[0    1.0\n",
      "1    1.0\n",
      "2    1.0\n",
      "3    1.0\n",
      "4    1.0\n",
      "5    1.0\n",
      "Name: 0, dtype: float64, 0    1.264706\n",
      "1    0.931818\n",
      "2    0.994898\n",
      "3    1.010204\n",
      "4    0.989899\n",
      "5    1.000000\n",
      "Name: 100, dtype: float64, 0    1.272727\n",
      "1    0.765957\n",
      "2    1.034286\n",
      "3    0.991960\n",
      "4    1.000000\n",
      "5    1.015385\n",
      "Name: 200, dtype: float64, 0    1.208125\n",
      "1    1.568824\n",
      "2    1.061200\n",
      "3    0.993232\n",
      "4    0.996979\n",
      "5    1.016327\n",
      "Name: 300, dtype: float64, 0    1.100000\n",
      "1    0.844156\n",
      "2    1.006993\n",
      "3    1.094203\n",
      "4    1.018088\n",
      "5    0.992405\n",
      "Name: 400, dtype: float64, 0    1.484848\n",
      "1    1.271429\n",
      "2    1.183391\n",
      "3    0.725126\n",
      "4    0.990361\n",
      "5    1.109865\n",
      "Name: 500, dtype: float64]\n"
     ]
    },
    {
     "data": {
      "text/plain": [
       "{'0': 0    1.484848\n",
       " 1    1.271429\n",
       " 2    1.183391\n",
       " 3    0.725126\n",
       " 4    0.990361\n",
       " 5    1.109865\n",
       " Name: 500, dtype: float64,\n",
       " '100': 0    1.484848\n",
       " 1    1.271429\n",
       " 2    1.183391\n",
       " 3    0.725126\n",
       " 4    0.990361\n",
       " 5    1.109865\n",
       " Name: 500, dtype: float64,\n",
       " '200': 0    1.484848\n",
       " 1    1.271429\n",
       " 2    1.183391\n",
       " 3    0.725126\n",
       " 4    0.990361\n",
       " 5    1.109865\n",
       " Name: 500, dtype: float64,\n",
       " '300': 0    1.484848\n",
       " 1    1.271429\n",
       " 2    1.183391\n",
       " 3    0.725126\n",
       " 4    0.990361\n",
       " 5    1.109865\n",
       " Name: 500, dtype: float64,\n",
       " '400': 0    1.484848\n",
       " 1    1.271429\n",
       " 2    1.183391\n",
       " 3    0.725126\n",
       " 4    0.990361\n",
       " 5    1.109865\n",
       " Name: 500, dtype: float64,\n",
       " '500': 0    1.484848\n",
       " 1    1.271429\n",
       " 2    1.183391\n",
       " 3    0.725126\n",
       " 4    0.990361\n",
       " 5    1.109865\n",
       " Name: 500, dtype: float64}"
      ]
     },
     "execution_count": 31,
     "metadata": {},
     "output_type": "execute_result"
    }
   ],
   "source": [
    "\n",
    "import numpy as np\n",
    "ratioL=[]\n",
    "CL=['0','100','200','300','400','500']\n",
    "for i in range(len(CL)):\n",
    "    col1 = PMR[CL[i]]\n",
    "    col2 = SR[CL[i]]\n",
    "\n",
    "    ratio = np.divide(col1, col2)\n",
    "    ratioL.append(ratio)\n",
    "    \n",
    "print(ratioL)\n",
    "dct1={}\n",
    "for c in CL:\n",
    "    for v in ratioL:\n",
    "        dct1[c]=v\n",
    "dct1"
   ]
  },
  {
   "cell_type": "markdown",
   "id": "0a5234f4",
   "metadata": {},
   "source": [
    "# creating DataFrame from Ratio Lists"
   ]
  },
  {
   "cell_type": "code",
   "execution_count": 32,
   "id": "23968dc9",
   "metadata": {},
   "outputs": [
    {
     "name": "stdout",
     "output_type": "stream",
     "text": [
      "          0       100       200       300       400       500\n",
      "0  1.484848  1.484848  1.484848  1.484848  1.484848  1.484848\n",
      "1  1.271429  1.271429  1.271429  1.271429  1.271429  1.271429\n",
      "2  1.183391  1.183391  1.183391  1.183391  1.183391  1.183391\n",
      "3  0.725126  0.725126  0.725126  0.725126  0.725126  0.725126\n",
      "4  0.990361  0.990361  0.990361  0.990361  0.990361  0.990361\n",
      "5  1.109865  1.109865  1.109865  1.109865  1.109865  1.109865\n"
     ]
    }
   ],
   "source": [
    "OR2 = pd.DataFrame(dct1)\n",
    "print(OR2)\n",
    "\n",
    "# OR2 is Profitmaximuzation/Solo rides"
   ]
  },
  {
   "cell_type": "code",
   "execution_count": null,
   "id": "d51e1870",
   "metadata": {},
   "outputs": [],
   "source": []
  },
  {
   "cell_type": "markdown",
   "id": "ab83d70a",
   "metadata": {},
   "source": [
    "# comparing PooledRides/SoloRides "
   ]
  },
  {
   "cell_type": "code",
   "execution_count": 34,
   "id": "d187aa3a",
   "metadata": {},
   "outputs": [],
   "source": [
    "compdf=OR1.compare(OR2,align_axis=0).rename(index={'self':'PR/Solo','other':'PMR/Solo'},level=-1)"
   ]
  },
  {
   "cell_type": "code",
   "execution_count": 35,
   "id": "e7d30d00",
   "metadata": {},
   "outputs": [
    {
     "data": {
      "text/html": [
       "<div>\n",
       "<style scoped>\n",
       "    .dataframe tbody tr th:only-of-type {\n",
       "        vertical-align: middle;\n",
       "    }\n",
       "\n",
       "    .dataframe tbody tr th {\n",
       "        vertical-align: top;\n",
       "    }\n",
       "\n",
       "    .dataframe thead th {\n",
       "        text-align: right;\n",
       "    }\n",
       "</style>\n",
       "<table border=\"1\" class=\"dataframe\">\n",
       "  <thead>\n",
       "    <tr style=\"text-align: right;\">\n",
       "      <th></th>\n",
       "      <th></th>\n",
       "      <th>0</th>\n",
       "      <th>100</th>\n",
       "      <th>200</th>\n",
       "      <th>300</th>\n",
       "      <th>400</th>\n",
       "      <th>500</th>\n",
       "    </tr>\n",
       "  </thead>\n",
       "  <tbody>\n",
       "    <tr>\n",
       "      <th rowspan=\"2\" valign=\"top\">0</th>\n",
       "      <th>PR/Solo</th>\n",
       "      <td>1.242424</td>\n",
       "      <td>1.242424</td>\n",
       "      <td>1.242424</td>\n",
       "      <td>1.242424</td>\n",
       "      <td>1.242424</td>\n",
       "      <td>1.242424</td>\n",
       "    </tr>\n",
       "    <tr>\n",
       "      <th>PMR/Solo</th>\n",
       "      <td>1.484848</td>\n",
       "      <td>1.484848</td>\n",
       "      <td>1.484848</td>\n",
       "      <td>1.484848</td>\n",
       "      <td>1.484848</td>\n",
       "      <td>1.484848</td>\n",
       "    </tr>\n",
       "    <tr>\n",
       "      <th rowspan=\"2\" valign=\"top\">1</th>\n",
       "      <th>PR/Solo</th>\n",
       "      <td>1.014286</td>\n",
       "      <td>1.014286</td>\n",
       "      <td>1.014286</td>\n",
       "      <td>1.014286</td>\n",
       "      <td>1.014286</td>\n",
       "      <td>1.014286</td>\n",
       "    </tr>\n",
       "    <tr>\n",
       "      <th>PMR/Solo</th>\n",
       "      <td>1.271429</td>\n",
       "      <td>1.271429</td>\n",
       "      <td>1.271429</td>\n",
       "      <td>1.271429</td>\n",
       "      <td>1.271429</td>\n",
       "      <td>1.271429</td>\n",
       "    </tr>\n",
       "    <tr>\n",
       "      <th rowspan=\"2\" valign=\"top\">2</th>\n",
       "      <th>PR/Solo</th>\n",
       "      <td>0.948097</td>\n",
       "      <td>0.948097</td>\n",
       "      <td>0.948097</td>\n",
       "      <td>0.948097</td>\n",
       "      <td>0.948097</td>\n",
       "      <td>0.948097</td>\n",
       "    </tr>\n",
       "    <tr>\n",
       "      <th>PMR/Solo</th>\n",
       "      <td>1.183391</td>\n",
       "      <td>1.183391</td>\n",
       "      <td>1.183391</td>\n",
       "      <td>1.183391</td>\n",
       "      <td>1.183391</td>\n",
       "      <td>1.183391</td>\n",
       "    </tr>\n",
       "    <tr>\n",
       "      <th rowspan=\"2\" valign=\"top\">3</th>\n",
       "      <th>PR/Solo</th>\n",
       "      <td>0.954469</td>\n",
       "      <td>0.954469</td>\n",
       "      <td>0.954469</td>\n",
       "      <td>0.954469</td>\n",
       "      <td>0.954469</td>\n",
       "      <td>0.954469</td>\n",
       "    </tr>\n",
       "    <tr>\n",
       "      <th>PMR/Solo</th>\n",
       "      <td>0.725126</td>\n",
       "      <td>0.725126</td>\n",
       "      <td>0.725126</td>\n",
       "      <td>0.725126</td>\n",
       "      <td>0.725126</td>\n",
       "      <td>0.725126</td>\n",
       "    </tr>\n",
       "    <tr>\n",
       "      <th rowspan=\"2\" valign=\"top\">5</th>\n",
       "      <th>PR/Solo</th>\n",
       "      <td>1.098655</td>\n",
       "      <td>1.098655</td>\n",
       "      <td>1.098655</td>\n",
       "      <td>1.098655</td>\n",
       "      <td>1.098655</td>\n",
       "      <td>1.098655</td>\n",
       "    </tr>\n",
       "    <tr>\n",
       "      <th>PMR/Solo</th>\n",
       "      <td>1.109865</td>\n",
       "      <td>1.109865</td>\n",
       "      <td>1.109865</td>\n",
       "      <td>1.109865</td>\n",
       "      <td>1.109865</td>\n",
       "      <td>1.109865</td>\n",
       "    </tr>\n",
       "  </tbody>\n",
       "</table>\n",
       "</div>"
      ],
      "text/plain": [
       "                   0       100       200       300       400       500\n",
       "0 PR/Solo   1.242424  1.242424  1.242424  1.242424  1.242424  1.242424\n",
       "  PMR/Solo  1.484848  1.484848  1.484848  1.484848  1.484848  1.484848\n",
       "1 PR/Solo   1.014286  1.014286  1.014286  1.014286  1.014286  1.014286\n",
       "  PMR/Solo  1.271429  1.271429  1.271429  1.271429  1.271429  1.271429\n",
       "2 PR/Solo   0.948097  0.948097  0.948097  0.948097  0.948097  0.948097\n",
       "  PMR/Solo  1.183391  1.183391  1.183391  1.183391  1.183391  1.183391\n",
       "3 PR/Solo   0.954469  0.954469  0.954469  0.954469  0.954469  0.954469\n",
       "  PMR/Solo  0.725126  0.725126  0.725126  0.725126  0.725126  0.725126\n",
       "5 PR/Solo   1.098655  1.098655  1.098655  1.098655  1.098655  1.098655\n",
       "  PMR/Solo  1.109865  1.109865  1.109865  1.109865  1.109865  1.109865"
      ]
     },
     "execution_count": 35,
     "metadata": {},
     "output_type": "execute_result"
    }
   ],
   "source": [
    "compdf  # data frame for comparision of ratios"
   ]
  },
  {
   "cell_type": "markdown",
   "id": "9fe5ed40",
   "metadata": {},
   "source": [
    "# plotting for Profit-Maximization / Solo Rides"
   ]
  },
  {
   "cell_type": "code",
   "execution_count": 36,
   "id": "30210ab1",
   "metadata": {},
   "outputs": [
    {
     "data": {
      "text/plain": [
       "Text(6.800000000000008, 0.5, 'number of Drivers')"
      ]
     },
     "execution_count": 36,
     "metadata": {},
     "output_type": "execute_result"
    },
    {
     "data": {
      "image/png": "[encoded data removed]",
      "text/plain": [
       "<Figure size 432x252 with 2 Axes>"
      ]
     },
     "metadata": {
      "needs_background": "light"
     },
     "output_type": "display_data"
    }
   ],
   "source": [
    "import matplotlib.pyplot as plt\n",
    "import numpy as np\n",
    "import pandas as pd\n",
    "import seaborn as sns\n",
    "plt.rcParams[\"figure.figsize\"] = [6, 3.50]\n",
    "plt.rcParams[\"figure.autolayout\"] = True\n",
    "\n",
    "\n",
    "#s = sns.heatmap(profitmax, annot=True,  cmap='viridis', ax=ax1)\n",
    "\n",
    "plt.title('Profit-Maximization/SoloRides Ratio')\n",
    "sns.heatmap(data = OR2,annot=True,cmap='viridis',vmin=0,vmax=100)\n",
    "plt.xlabel('number of Travellers',fontsize=13)\n",
    "plt.ylabel('number of Drivers',fontsize=13)"
   ]
  },
  {
   "cell_type": "markdown",
   "id": "6825553f",
   "metadata": {},
   "source": [
    "# Plotting for Pooled-Rides / Solo Rides\n"
   ]
  },
  {
   "cell_type": "code",
   "execution_count": 37,
   "id": "88ddf3ce",
   "metadata": {},
   "outputs": [
    {
     "data": {
      "text/plain": [
       "Text(6.800000000000008, 0.5, 'number of Drivers')"
      ]
     },
     "execution_count": 37,
     "metadata": {},
     "output_type": "execute_result"
    },
    {
     "data": {
      "image/png": "[encoded data removed]",
      "text/plain": [
       "<Figure size 432x252 with 2 Axes>"
      ]
     },
     "metadata": {
      "needs_background": "light"
     },
     "output_type": "display_data"
    }
   ],
   "source": [
    "plt.title('Pooled-Rides/SoloRides Ratio')\n",
    "sns.heatmap(data = OR1,annot=True,cmap='viridis',vmin=0,vmax=100)\n",
    "plt.xlabel('number of Travellers',fontsize=13)\n",
    "plt.ylabel('number of Drivers',fontsize=13)"
   ]
  },
  {
   "cell_type": "markdown",
   "id": "1af70618",
   "metadata": {},
   "source": [
    "# Plotting for Comparision of Both the Ratios"
   ]
  },
  {
   "cell_type": "code",
   "execution_count": 38,
   "id": "559498d8",
   "metadata": {},
   "outputs": [
    {
     "data": {
      "text/plain": [
       "Text(6.800000000000004, 0.5, 'Rides')"
      ]
     },
     "execution_count": 38,
     "metadata": {},
     "output_type": "execute_result"
    },
    {
     "data": {
      "image/png": "[encoded data removed]",
      "text/plain": [
       "<Figure size 432x252 with 2 Axes>"
      ]
     },
     "metadata": {
      "needs_background": "light"
     },
     "output_type": "display_data"
    }
   ],
   "source": [
    "plt.title('comparing both ratios')\n",
    "sns.heatmap(data = compdf,annot=True,fmt=\".1f\",cmap='viridis',vmin=0,vmax=100)\n",
    "plt.xlabel('Drivers',fontsize=13)\n",
    "plt.ylabel('Rides',fontsize=13)"
   ]
  },
  {
   "cell_type": "markdown",
   "id": "dd1771f9-7aad-49ab-b67d-8e4c4fea0710",
   "metadata": {},
   "source": [
    "# Without Ratios HeatMap"
   ]
  },
  {
   "cell_type": "code",
   "execution_count": 39,
   "id": "61370d11",
   "metadata": {},
   "outputs": [
    {
     "data": {
      "image/png": "[encoded data removed]",
      "text/plain": [
       "<Figure size 900x252 with 6 Axes>"
      ]
     },
     "metadata": {
      "needs_background": "light"
     },
     "output_type": "display_data"
    }
   ],
   "source": [
    "import matplotlib.pyplot as plt\n",
    "import numpy as np\n",
    "import pandas as pd\n",
    "import seaborn as sns\n",
    "\n",
    "plt.rcParams[\"figure.figsize\"] = [12.50, 3.50]\n",
    "plt.rcParams[\"figure.autolayout\"] = True\n",
    "\n",
    "\n",
    "solo = pd.read_csv('D:/Development/GitHub-ProjectV2.0/MaaSSim/docs/tutorials/Results/Simulation/Driver/ServiceRate/data/Solo-Rides.csv')\n",
    "profitmax =pd.read_csv('D:/Development/GitHub-ProjectV2.0/MaaSSim/docs/tutorials/Results/Simulation/Driver/ServiceRate/data/Profit-Maximization.csv')\n",
    "pooled =pd.read_csv('D:/Development/GitHub-ProjectV2.0/MaaSSim/docs/tutorials/Results/Simulation/Driver/ServiceRate/data/Pooled-Rides.csv')\n",
    "\n",
    "fig, (ax1, ax2, ax3) = plt.subplots(ncols=3)\n",
    "fig.subplots_adjust(wspace=1.01)\n",
    "\n",
    "\n",
    "s = sns.heatmap(profitmax, annot=True,  cmap='viridis', ax=ax1)\n",
    "s.set(xlabel='number of Travellers', ylabel='number of Drivers', title = 'Service Rate for Profit Maximization')\n",
    "\n",
    "s = sns.heatmap(pooled, annot=True,  cmap='viridis', ax=ax2)\n",
    "s.set(xlabel='number of Travellers', ylabel='number of Drivers', title = 'Service Rate for Pooled Rides')\n",
    "\n",
    "s = sns.heatmap(solo, annot=True,  cmap='viridis', ax=ax3)\n",
    "s.set(xlabel='number of Travellers', ylabel='number of Drivers', title = 'Service Rate for Solo Rides')\n",
    "\n",
    "txt=\"I need the caption to be present a little below X-axis\"\n",
    "#ax3.yaxis.tick_right()\n",
    "\n",
    "fig.subplots_adjust(wspace=0.001)\n",
    "plt.show()\n",
    "fig.savefig('ServiceRate.png', dpi=600)"
   ]
  },
  {
   "cell_type": "code",
   "execution_count": null,
   "id": "eccdac0e-fe5e-43be-bade-ff768b9bdd1f",
   "metadata": {},
   "outputs": [],
   "source": []
  }
 ],
 "metadata": {
  "kernelspec": {
   "display_name": "Python 3 (ipykernel)",
   "language": "python",
   "name": "python3"
  },
  "language_info": {
   "codemirror_mode": {
    "name": "ipython",
    "version": 3
   },
   "file_extension": ".py",
   "mimetype": "text/x-python",
   "name": "python",
   "nbconvert_exporter": "python",
   "pygments_lexer": "ipython3",
   "version": "3.10.5"
  }
 },
 "nbformat": 4,
 "nbformat_minor": 5
}
