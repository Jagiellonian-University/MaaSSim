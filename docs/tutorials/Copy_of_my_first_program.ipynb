{
 "cells": [
  {
   "cell_type": "code",
   "execution_count": null,
   "metadata": {
    "colab": {
     "base_uri": "https://localhost:8080/"
    },
    "id": "I8uSedW3gzzt",
    "outputId": "8680ff48-8886-4543-e925-8f8b19ba971c"
   },
   "outputs": [
    {
     "name": "stdout",
     "output_type": "stream",
     "text": [
      "            Parameters      Profit-max    Pooled-Rides    Private-Ride\n",
      "----------  --------------  ------------  --------------  --------------\n",
      "Driver      Revenue         291.8181      291.4248        305.1873\n",
      "            profit          -             -               -\n",
      "            cost            -             -               -\n",
      "            idle time       218803        231059          225728\n",
      "Travellers  Losse Patience  221400        222015          224475\n",
      "            Travel Time     88407         87885           88023\n",
      "            Cost            -             -               -\n",
      "Platform    Vehicle KM      1428.045      1424.535        1401.904\n",
      "            Commission      -             -               -\n"
     ]
    }
   ],
   "source": [
    "from tabulate import tabulate\n",
    "print(tabulate({' ' : ['Driver','Travellers','Platform'],\"Parameters\" : ['Revenue\\nprofit\\ncost\\nidle time\\n','Losse Patience\\nTravel Time\\nCost\\n','Vehicle KM\\nCommission\\n'], 'Profit-max' : ['291.8181\\n-\\n-\\n218803','221400\\n88407\\n-','1428.045\\n-'],'Pooled-Rides': ['291.4248\\n-\\n-\\n231059','222015\\n87885\\n-','1424.535\\n-'], 'Private-Ride': ['305.1873\\n-\\n-\\n225728','224475\\n88023\\n-','1401.904\\n-']}, headers = 'keys'))"
   ]
  }
 ],
 "metadata": {
  "accelerator": "TPU",
  "colab": {
   "provenance": []
  },
  "gpuClass": "standard",
  "kernelspec": {
   "display_name": "Python 3 (ipykernel)",
   "language": "python",
   "name": "python3"
  },
  "language_info": {
   "codemirror_mode": {
    "name": "ipython",
    "version": 3
   },
   "file_extension": ".py",
   "mimetype": "text/x-python",
   "name": "python",
   "nbconvert_exporter": "python",
   "pygments_lexer": "ipython3",
   "version": "3.10.5"
  }
 },
 "nbformat": 4,
 "nbformat_minor": 4
}
