{
 "cells": [
  {
   "cell_type": "code",
   "execution_count": 1,
   "id": "cc5c67f6",
   "metadata": {},
   "outputs": [],
   "source": [
    "import pandas as pd\n",
    "import seaborn as sns\n",
    "import matplotlib.pyplot as plt"
   ]
  },
  {
   "cell_type": "code",
   "execution_count": 2,
   "id": "efc13050",
   "metadata": {},
   "outputs": [],
   "source": [
    "\n",
    "\n",
    "\n",
    "data2 = pd.read_csv('D:/Development/GitHub-ProjectV2.0/MaaSSim/docs/tutorials/Results/Simulation/Driver/KPI-2-ServiceRate/Solo-Rides.csv')\n",
    "data1 =pd.read_csv('D:/Development/GitHub-ProjectV2.0/MaaSSim/docs/tutorials/Results/Simulation/Driver/KPI-2-ServiceRate/Profit-Maximization.csv')\n",
    "data =pd.read_csv('D:/Development/GitHub-ProjectV2.0/MaaSSim/docs/tutorials/Results/Simulation/Driver/KPI-2-ServiceRate/Pooled-Rides.csv')\n"
   ]
  },
  {
   "cell_type": "code",
   "execution_count": null,
   "id": "fab456f6",
   "metadata": {},
   "outputs": [],
   "source": []
  },
  {
   "cell_type": "code",
   "execution_count": null,
   "id": "9b9cf0f6",
   "metadata": {},
   "outputs": [],
   "source": []
  },
  {
   "cell_type": "code",
   "execution_count": 2,
   "id": "36983836",
   "metadata": {},
   "outputs": [
    {
     "ename": "NameError",
     "evalue": "name 'data' is not defined",
     "output_type": "error",
     "traceback": [
      "\u001b[1;31m---------------------------------------------------------------------------\u001b[0m",
      "\u001b[1;31mNameError\u001b[0m                                 Traceback (most recent call last)",
      "Input \u001b[1;32mIn [2]\u001b[0m, in \u001b[0;36m<cell line: 2>\u001b[1;34m()\u001b[0m\n\u001b[0;32m      1\u001b[0m colListPR\u001b[38;5;241m=\u001b[39m[]\n\u001b[1;32m----> 2\u001b[0m \u001b[38;5;28;01mfor\u001b[39;00m column \u001b[38;5;129;01min\u001b[39;00m \u001b[43mdata\u001b[49m\u001b[38;5;241m.\u001b[39mcolumns:\n\u001b[0;32m      3\u001b[0m      \n\u001b[0;32m      4\u001b[0m     \u001b[38;5;66;03m# Storing the rows of a column\u001b[39;00m\n\u001b[0;32m      5\u001b[0m     \u001b[38;5;66;03m# into a temporary list\u001b[39;00m\n\u001b[0;32m      6\u001b[0m     li \u001b[38;5;241m=\u001b[39mdata[column]\u001b[38;5;241m.\u001b[39mtolist()\n\u001b[0;32m      8\u001b[0m     \u001b[38;5;66;03m# appending the temporary list\u001b[39;00m\n",
      "\u001b[1;31mNameError\u001b[0m: name 'data' is not defined"
     ]
    }
   ],
   "source": [
    "colListPR=[]\n",
    "for column in data.columns:\n",
    "     \n",
    "    # Storing the rows of a column\n",
    "    # into a temporary list\n",
    "    li =data[column].tolist()\n",
    "     \n",
    "    # appending the temporary list\n",
    "    colListPR.append(li)\n",
    "     \n",
    "# Printing the final list\n",
    "print(colListPR)"
   ]
  },
  {
   "cell_type": "code",
   "execution_count": 12,
   "id": "6b824b49",
   "metadata": {},
   "outputs": [
    {
     "name": "stdout",
     "output_type": "stream",
     "text": [
      "[[245.44, 260.474, 270.851, 278.426, 256.914], [537.232, 528.278, 513.209, 524.692, 525.275], [782.145, 802.675, 772.192, 780.662, 855.0], [943.0, 1125.707, 1069.642, 1021.134, 1034.751], [1032.158, 1312.125, 1328.86, 1309.853, 1292.01]]\n"
     ]
    }
   ],
   "source": [
    "colListPM=[]\n",
    "for column in data1.columns:\n",
    "     \n",
    "    li =data1[column].tolist()\n",
    "     \n",
    "    colListPM.append(li)\n",
    "     \n",
    "print(colListPM)"
   ]
  },
  {
   "cell_type": "code",
   "execution_count": 19,
   "id": "4ab7509e",
   "metadata": {},
   "outputs": [
    {
     "name": "stdout",
     "output_type": "stream",
     "text": [
      "[[229.494, 261.535, 278.411, 258.073, 260.568], [500.947, 533.265, 525.366, 520.677, 549.562], [748.644, 812.443, 783.077, 772.0, 800.0], [889.98, 950.55, 855.23, 900.25, 980.56], [810.23, 1050.25, 1100.23, 1150.23, 1082.25]]\n"
     ]
    }
   ],
   "source": [
    "colListSR=[]\n",
    "for column in data2.columns:\n",
    "     \n",
    "    li =data2[column].tolist()\n",
    "     \n",
    "    colListSR.append(li)\n",
    "     \n",
    "print(colListSR)"
   ]
  },
  {
   "cell_type": "code",
   "execution_count": 14,
   "id": "397750bb",
   "metadata": {},
   "outputs": [
    {
     "data": {
      "text/plain": [
       "{'whiskers': [<matplotlib.lines.Line2D at 0x2df118ec880>,\n",
       "  <matplotlib.lines.Line2D at 0x2df118ecb50>],\n",
       " 'caps': [<matplotlib.lines.Line2D at 0x2df118ece20>,\n",
       "  <matplotlib.lines.Line2D at 0x2df118fc130>],\n",
       " 'boxes': [<matplotlib.lines.Line2D at 0x2df118ec5b0>],\n",
       " 'medians': [<matplotlib.lines.Line2D at 0x2df118fc400>],\n",
       " 'fliers': [<matplotlib.lines.Line2D at 0x2df118fc6d0>],\n",
       " 'means': []}"
      ]
     },
     "execution_count": 14,
     "metadata": {},
     "output_type": "execute_result"
    },
    {
     "data": {
      "image/png": "[encoded data removed]",
      "text/plain": [
       "<Figure size 432x288 with 1 Axes>"
      ]
     },
     "metadata": {
      "needs_background": "light"
     },
     "output_type": "display_data"
    }
   ],
   "source": [
    "import numpy as np\n",
    "import matplotlib.pyplot as plt\n",
    "\n",
    "flatPR= [y for sublist in colListPR for y in sublist]\n",
    "flatPR\n",
    "plt.boxplot(flatPR)\n"
   ]
  },
  {
   "cell_type": "code",
   "execution_count": 15,
   "id": "dd6660bd",
   "metadata": {},
   "outputs": [
    {
     "data": {
      "text/plain": [
       "{'whiskers': [<matplotlib.lines.Line2D at 0x2df11956af0>,\n",
       "  <matplotlib.lines.Line2D at 0x2df11956dc0>],\n",
       " 'caps': [<matplotlib.lines.Line2D at 0x2df119650d0>,\n",
       "  <matplotlib.lines.Line2D at 0x2df119653a0>],\n",
       " 'boxes': [<matplotlib.lines.Line2D at 0x2df11956820>],\n",
       " 'medians': [<matplotlib.lines.Line2D at 0x2df119656a0>],\n",
       " 'fliers': [<matplotlib.lines.Line2D at 0x2df11965970>],\n",
       " 'means': []}"
      ]
     },
     "execution_count": 15,
     "metadata": {},
     "output_type": "execute_result"
    },
    {
     "data": {
      "image/png": "[encoded data removed]",
      "text/plain": [
       "<Figure size 432x288 with 1 Axes>"
      ]
     },
     "metadata": {
      "needs_background": "light"
     },
     "output_type": "display_data"
    }
   ],
   "source": [
    "import numpy as np\n",
    "import matplotlib.pyplot as plt\n",
    "\n",
    "flatSR= [y for sublist in colListSR for y in sublist]\n",
    "flatSR\n",
    "plt.boxplot(flatSR)"
   ]
  },
  {
   "cell_type": "code",
   "execution_count": 16,
   "id": "8492cc26",
   "metadata": {},
   "outputs": [
    {
     "data": {
      "text/plain": [
       "{'whiskers': [<matplotlib.lines.Line2D at 0x2df119be520>,\n",
       "  <matplotlib.lines.Line2D at 0x2df119be7f0>],\n",
       " 'caps': [<matplotlib.lines.Line2D at 0x2df119beaf0>,\n",
       "  <matplotlib.lines.Line2D at 0x2df119bedc0>],\n",
       " 'boxes': [<matplotlib.lines.Line2D at 0x2df119be250>],\n",
       " 'medians': [<matplotlib.lines.Line2D at 0x2df119cb0d0>],\n",
       " 'fliers': [<matplotlib.lines.Line2D at 0x2df119cb3a0>],\n",
       " 'means': []}"
      ]
     },
     "execution_count": 16,
     "metadata": {},
     "output_type": "execute_result"
    },
    {
     "data": {
      "image/png": "[encoded data removed]",
      "text/plain": [
       "<Figure size 432x288 with 1 Axes>"
      ]
     },
     "metadata": {
      "needs_background": "light"
     },
     "output_type": "display_data"
    }
   ],
   "source": [
    "import numpy as np\n",
    "import matplotlib.pyplot as plt\n",
    "\n",
    "flatPM= [y for sublist in colListPM for y in sublist]\n",
    "flatPM\n",
    "plt.boxplot(flatPM)"
   ]
  },
  {
   "cell_type": "code",
   "execution_count": 1,
   "id": "25f0a030",
   "metadata": {
    "scrolled": true
   },
   "outputs": [
    {
     "ename": "NameError",
     "evalue": "name 'flatPM' is not defined",
     "output_type": "error",
     "traceback": [
      "\u001b[1;31m---------------------------------------------------------------------------\u001b[0m",
      "\u001b[1;31mNameError\u001b[0m                                 Traceback (most recent call last)",
      "Input \u001b[1;32mIn [1]\u001b[0m, in \u001b[0;36m<cell line: 5>\u001b[1;34m()\u001b[0m\n\u001b[0;32m      3\u001b[0m fig \u001b[38;5;241m=\u001b[39m go\u001b[38;5;241m.\u001b[39mFigure()\n\u001b[0;32m      4\u001b[0m fig\u001b[38;5;241m.\u001b[39mupdate_layout(autosize\u001b[38;5;241m=\u001b[39m\u001b[38;5;28;01mFalse\u001b[39;00m,width\u001b[38;5;241m=\u001b[39m\u001b[38;5;241m750\u001b[39m,height\u001b[38;5;241m=\u001b[39m\u001b[38;5;241m550\u001b[39m,)\n\u001b[1;32m----> 5\u001b[0m fig\u001b[38;5;241m.\u001b[39madd_trace(go\u001b[38;5;241m.\u001b[39mBox(y\u001b[38;5;241m=\u001b[39m\u001b[43mflatPM\u001b[49m,name\u001b[38;5;241m=\u001b[39m\u001b[38;5;124m\"\u001b[39m\u001b[38;5;124mProfit-Maximization\u001b[39m\u001b[38;5;124m\"\u001b[39m))\n\u001b[0;32m      6\u001b[0m fig\u001b[38;5;241m.\u001b[39madd_trace(go\u001b[38;5;241m.\u001b[39mBox(y\u001b[38;5;241m=\u001b[39mflatPR,name\u001b[38;5;241m=\u001b[39m\u001b[38;5;124m\"\u001b[39m\u001b[38;5;124mPooled-Rides\u001b[39m\u001b[38;5;124m\"\u001b[39m))\n\u001b[0;32m      7\u001b[0m fig\u001b[38;5;241m.\u001b[39madd_trace(go\u001b[38;5;241m.\u001b[39mBox(y\u001b[38;5;241m=\u001b[39mflatSR,name\u001b[38;5;241m=\u001b[39m\u001b[38;5;124m\"\u001b[39m\u001b[38;5;124mSolo-Rides\u001b[39m\u001b[38;5;124m\"\u001b[39m))\n",
      "\u001b[1;31mNameError\u001b[0m: name 'flatPM' is not defined"
     ]
    }
   ],
   "source": [
    "import plotly.graph_objects as go\n",
    "from plotly.subplots import make_subplots\n",
    "fig = go.Figure()\n",
    "fig.update_layout(autosize=False,width=750,height=550,)\n",
    "fig.add_trace(go.Box(y=flatPM,name=\"Profit-Maximization\"))\n",
    "fig.add_trace(go.Box(y=flatPR,name=\"Pooled-Rides\"))\n",
    "fig.add_trace(go.Box(y=flatSR,name=\"Solo-Rides\"))\n",
    "fig.update_layout(title='KPI 1 Analysis',xaxis=dict(title='Drivers'),yaxis=dict(title='Rides'))\n",
    "fig.show()\n",
    "plt.savefig(\"KPI1Analysis.jpg\")"
   ]
  },
  {
   "cell_type": "code",
   "execution_count": 29,
   "id": "8ce7d678",
   "metadata": {},
   "outputs": [],
   "source": [
    "  "
   ]
  },
  {
   "cell_type": "code",
   "execution_count": 18,
   "id": "74163c0e",
   "metadata": {},
   "outputs": [
    {
     "data": {
      "text/plain": [
       "<Figure size 2250x1500 with 0 Axes>"
      ]
     },
     "metadata": {},
     "output_type": "display_data"
    },
    {
     "data": {
      "image/png": "[encoded data removed]",
      "text/plain": [
       "<Figure size 432x288 with 1 Axes>"
      ]
     },
     "metadata": {
      "needs_background": "light"
     },
     "output_type": "display_data"
    }
   ],
   "source": [
    "import warnings\n",
    "warnings.simplefilter('ignore')\n",
    "import matplotlib.pyplot as plt\n",
    "import seaborn as sns\n",
    "fig= plt.figure(figsize=(15,10),dpi=150)\n",
    "fig,ax =plt.subplots()\n",
    "plt.title('Service Rate')\n",
    "sns.distplot(flatPR,hist=False,label='Pooled')\n",
    "sns.distplot(flatPM,hist=False,label='Profit Maximization')\n",
    "sns.distplot(flatSR,hist=False,label='Solo')\n",
    "plt.xlabel('Drivers',fontsize=13)\n",
    "plt.ylabel('Rides',fontsize=13)\n",
    "\n",
    "plt.legend(fontsize=10)\n",
    "plt.savefig(\"Revenue.jpg\")\n",
    "plt.show()"
   ]
  },
  {
   "cell_type": "code",
   "execution_count": null,
   "id": "42e4d6bf",
   "metadata": {},
   "outputs": [],
   "source": []
  },
  {
   "cell_type": "code",
   "execution_count": null,
   "id": "19eff54b",
   "metadata": {},
   "outputs": [],
   "source": []
  },
  {
   "cell_type": "code",
   "execution_count": null,
   "id": "0bd87c5b",
   "metadata": {},
   "outputs": [],
   "source": []
  },
  {
   "cell_type": "code",
   "execution_count": null,
   "id": "5b7288fc",
   "metadata": {},
   "outputs": [],
   "source": []
  }
 ],
 "metadata": {
  "kernelspec": {
   "display_name": "Python 3 (ipykernel)",
   "language": "python",
   "name": "python3"
  },
  "language_info": {
   "codemirror_mode": {
    "name": "ipython",
    "version": 3
   },
   "file_extension": ".py",
   "mimetype": "text/x-python",
   "name": "python",
   "nbconvert_exporter": "python",
   "pygments_lexer": "ipython3",
   "version": "3.10.5"
  }
 },
 "nbformat": 4,
 "nbformat_minor": 5
}
