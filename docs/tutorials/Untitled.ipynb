{
 "cells": [
  {
   "cell_type": "code",
   "execution_count": 3,
   "id": "db9a251c",
   "metadata": {},
   "outputs": [],
   "source": [
    "import pandas as pd"
   ]
  },
  {
   "cell_type": "code",
   "execution_count": 4,
   "id": "8d92eba3",
   "metadata": {},
   "outputs": [],
   "source": [
    "df1=pd.read_csv(\"D:/Development/GitHub-ProjectV2.0/MaaSSim/docs/tutorials/Results/Simulation/Driver/nP=100; nV=10; Rep=1/veh1.csv\")"
   ]
  },
  {
   "cell_type": "code",
   "execution_count": 5,
   "id": "9d20ad5c",
   "metadata": {},
   "outputs": [
    {
     "data": {
      "text/html": [
       "<div>\n",
       "<style scoped>\n",
       "    .dataframe tbody tr th:only-of-type {\n",
       "        vertical-align: middle;\n",
       "    }\n",
       "\n",
       "    .dataframe tbody tr th {\n",
       "        vertical-align: top;\n",
       "    }\n",
       "\n",
       "    .dataframe thead th {\n",
       "        text-align: right;\n",
       "    }\n",
       "</style>\n",
       "<table border=\"1\" class=\"dataframe\">\n",
       "  <thead>\n",
       "    <tr style=\"text-align: right;\">\n",
       "      <th></th>\n",
       "      <th>Unnamed: 0</th>\n",
       "      <th>nRIDES</th>\n",
       "      <th>nREJECTED</th>\n",
       "      <th>OUT</th>\n",
       "      <th>STARTS_DAY</th>\n",
       "      <th>OPENS_APP</th>\n",
       "      <th>RECEIVES_REQUEST</th>\n",
       "      <th>ACCEPTS_REQUEST</th>\n",
       "      <th>REJECTS_REQUEST</th>\n",
       "      <th>IS_ACCEPTED_BY_TRAVELLER</th>\n",
       "      <th>...</th>\n",
       "      <th>DRIVING_TIME</th>\n",
       "      <th>DRIVING_DIST</th>\n",
       "      <th>FARE</th>\n",
       "      <th>COMMISSION</th>\n",
       "      <th>REVENUE</th>\n",
       "      <th>PICKUP_DIST</th>\n",
       "      <th>TRAVEL_DIST</th>\n",
       "      <th>OPERATING_COST</th>\n",
       "      <th>PROFIT</th>\n",
       "      <th>nV</th>\n",
       "    </tr>\n",
       "  </thead>\n",
       "  <tbody>\n",
       "    <tr>\n",
       "      <th>0</th>\n",
       "      <td>sum</td>\n",
       "      <td>76.000000</td>\n",
       "      <td>0.0</td>\n",
       "      <td>0.0</td>\n",
       "      <td>0.0</td>\n",
       "      <td>0.0</td>\n",
       "      <td>96456.000000</td>\n",
       "      <td>1140.000000</td>\n",
       "      <td>0.0</td>\n",
       "      <td>1486.000000</td>\n",
       "      <td>...</td>\n",
       "      <td>36203.000000</td>\n",
       "      <td>362.030000</td>\n",
       "      <td>28.911000</td>\n",
       "      <td>5.782200</td>\n",
       "      <td>23.128800</td>\n",
       "      <td>179.430000</td>\n",
       "      <td>198.640000</td>\n",
       "      <td>9.932000</td>\n",
       "      <td>13.196800</td>\n",
       "      <td>10</td>\n",
       "    </tr>\n",
       "    <tr>\n",
       "      <th>1</th>\n",
       "      <td>mean</td>\n",
       "      <td>7.600000</td>\n",
       "      <td>0.0</td>\n",
       "      <td>0.0</td>\n",
       "      <td>0.0</td>\n",
       "      <td>0.0</td>\n",
       "      <td>9645.600000</td>\n",
       "      <td>114.000000</td>\n",
       "      <td>0.0</td>\n",
       "      <td>148.600000</td>\n",
       "      <td>...</td>\n",
       "      <td>3620.300000</td>\n",
       "      <td>36.203000</td>\n",
       "      <td>2.891100</td>\n",
       "      <td>0.578220</td>\n",
       "      <td>2.312880</td>\n",
       "      <td>17.943000</td>\n",
       "      <td>19.864000</td>\n",
       "      <td>0.993200</td>\n",
       "      <td>1.319680</td>\n",
       "      <td>10</td>\n",
       "    </tr>\n",
       "    <tr>\n",
       "      <th>2</th>\n",
       "      <td>std</td>\n",
       "      <td>2.590581</td>\n",
       "      <td>0.0</td>\n",
       "      <td>0.0</td>\n",
       "      <td>0.0</td>\n",
       "      <td>0.0</td>\n",
       "      <td>2681.532489</td>\n",
       "      <td>38.858718</td>\n",
       "      <td>0.0</td>\n",
       "      <td>48.270534</td>\n",
       "      <td>...</td>\n",
       "      <td>2750.105253</td>\n",
       "      <td>27.501053</td>\n",
       "      <td>1.075911</td>\n",
       "      <td>0.215182</td>\n",
       "      <td>0.860729</td>\n",
       "      <td>30.425328</td>\n",
       "      <td>30.381549</td>\n",
       "      <td>1.519077</td>\n",
       "      <td>1.781614</td>\n",
       "      <td>10</td>\n",
       "    </tr>\n",
       "  </tbody>\n",
       "</table>\n",
       "<p>3 rows × 38 columns</p>\n",
       "</div>"
      ],
      "text/plain": [
       "  Unnamed: 0     nRIDES  nREJECTED  OUT  STARTS_DAY  OPENS_APP  \\\n",
       "0        sum  76.000000        0.0  0.0         0.0        0.0   \n",
       "1       mean   7.600000        0.0  0.0         0.0        0.0   \n",
       "2        std   2.590581        0.0  0.0         0.0        0.0   \n",
       "\n",
       "   RECEIVES_REQUEST  ACCEPTS_REQUEST  REJECTS_REQUEST  \\\n",
       "0      96456.000000      1140.000000              0.0   \n",
       "1       9645.600000       114.000000              0.0   \n",
       "2       2681.532489        38.858718              0.0   \n",
       "\n",
       "   IS_ACCEPTED_BY_TRAVELLER  ...  DRIVING_TIME  DRIVING_DIST       FARE  \\\n",
       "0               1486.000000  ...  36203.000000    362.030000  28.911000   \n",
       "1                148.600000  ...   3620.300000     36.203000   2.891100   \n",
       "2                 48.270534  ...   2750.105253     27.501053   1.075911   \n",
       "\n",
       "   COMMISSION    REVENUE  PICKUP_DIST  TRAVEL_DIST  OPERATING_COST     PROFIT  \\\n",
       "0    5.782200  23.128800   179.430000   198.640000        9.932000  13.196800   \n",
       "1    0.578220   2.312880    17.943000    19.864000        0.993200   1.319680   \n",
       "2    0.215182   0.860729    30.425328    30.381549        1.519077   1.781614   \n",
       "\n",
       "   nV  \n",
       "0  10  \n",
       "1  10  \n",
       "2  10  \n",
       "\n",
       "[3 rows x 38 columns]"
      ]
     },
     "execution_count": 5,
     "metadata": {},
     "output_type": "execute_result"
    }
   ],
   "source": [
    "df1.head()"
   ]
  },
  {
   "cell_type": "code",
   "execution_count": 6,
   "id": "3747bde9",
   "metadata": {},
   "outputs": [],
   "source": [
    "df2=pd.read_csv(\"D:/Development/GitHub-ProjectV2.0/MaaSSim/docs/tutorials/Results/Simulation/Driver/nP=100; nV=10; Rep= 2//veh1.csv\")"
   ]
  },
  {
   "cell_type": "code",
   "execution_count": 7,
   "id": "a371ba2c",
   "metadata": {},
   "outputs": [],
   "source": [
    "df3=pd.read_csv(\"D:/Development/GitHub-ProjectV2.0/MaaSSim/docs/tutorials/Results/Simulation/Driver/nP=100; nV=10; Rep= 3//veh1.csv\")"
   ]
  },
  {
   "cell_type": "code",
   "execution_count": 8,
   "id": "34dc2020",
   "metadata": {},
   "outputs": [],
   "source": [
    "df4=pd.read_csv(\"D:/Development/GitHub-ProjectV2.0/MaaSSim/docs/tutorials/Results/Simulation/Driver/nP=100; nV=10; Rep= 4//veh1.csv\")"
   ]
  },
  {
   "cell_type": "code",
   "execution_count": 9,
   "id": "5a9604f1",
   "metadata": {},
   "outputs": [],
   "source": [
    "Meanofveh1=(df1['PROFIT'][0]+df2['PROFIT'][0]+df3['PROFIT'][0]+df4['PROFIT'][0])/4"
   ]
  },
  {
   "cell_type": "code",
   "execution_count": 10,
   "id": "1a32b6f5",
   "metadata": {},
   "outputs": [
    {
     "data": {
      "text/plain": [
       "18.951175"
      ]
     },
     "execution_count": 10,
     "metadata": {},
     "output_type": "execute_result"
    }
   ],
   "source": [
    "Meanofveh1"
   ]
  },
  {
   "cell_type": "code",
   "execution_count": 11,
   "id": "c2a84700",
   "metadata": {},
   "outputs": [],
   "source": [
    "df1veh2=pd.read_csv(\"D:/Development/GitHub-ProjectV2.0/MaaSSim/docs/tutorials/Results/Simulation/Driver/nP=100; nV=10; Rep=1//veh2.csv\")"
   ]
  },
  {
   "cell_type": "code",
   "execution_count": 12,
   "id": "f1ebd816",
   "metadata": {},
   "outputs": [],
   "source": [
    "df2veh2=pd.read_csv(\"D:/Development/GitHub-ProjectV2.0/MaaSSim/docs/tutorials/Results/Simulation/Driver/nP=100; nV=10; Rep= 2//veh2.csv\")"
   ]
  },
  {
   "cell_type": "code",
   "execution_count": 13,
   "id": "114cdba5",
   "metadata": {},
   "outputs": [],
   "source": [
    "df3veh2=pd.read_csv(\"D:/Development/GitHub-ProjectV2.0/MaaSSim/docs/tutorials/Results/Simulation/Driver/nP=100; nV=10; Rep= 3//veh2.csv\")"
   ]
  },
  {
   "cell_type": "code",
   "execution_count": 14,
   "id": "2ca46946",
   "metadata": {},
   "outputs": [],
   "source": [
    "df4veh2=pd.read_csv(\"D:/Development/GitHub-ProjectV2.0/MaaSSim/docs/tutorials/Results/Simulation/Driver/nP=100; nV=10; Rep= 4//veh2.csv\")"
   ]
  },
  {
   "cell_type": "code",
   "execution_count": 15,
   "id": "ff3087bd",
   "metadata": {},
   "outputs": [],
   "source": [
    "Meanofveh2=(df1veh2['PROFIT'][0]+df2veh2['PROFIT'][0]+df3veh2['PROFIT'][0]+df4veh2['PROFIT'][0])/4"
   ]
  },
  {
   "cell_type": "code",
   "execution_count": 16,
   "id": "5d8ab81a",
   "metadata": {},
   "outputs": [
    {
     "data": {
      "text/plain": [
       "29.631149999999998"
      ]
     },
     "execution_count": 16,
     "metadata": {},
     "output_type": "execute_result"
    }
   ],
   "source": [
    "Meanofveh2"
   ]
  },
  {
   "cell_type": "code",
   "execution_count": 19,
   "id": "b6c6e58e",
   "metadata": {},
   "outputs": [],
   "source": [
    "df1veh3=pd.read_csv(\"D:/Development/GitHub-ProjectV2.0/MaaSSim/docs/tutorials/Results/Simulation/Driver/nP=100; nV=10; Rep=1//veh3.csv\")"
   ]
  },
  {
   "cell_type": "code",
   "execution_count": 20,
   "id": "d1d8d28c",
   "metadata": {},
   "outputs": [],
   "source": [
    "df2veh3=pd.read_csv(\"D:/Development/GitHub-ProjectV2.0/MaaSSim/docs/tutorials/Results/Simulation/Driver/nP=100; nV=10; Rep= 2//veh3.csv\")"
   ]
  },
  {
   "cell_type": "code",
   "execution_count": 21,
   "id": "fec43852",
   "metadata": {},
   "outputs": [],
   "source": [
    "df3veh3=pd.read_csv(\"D:/Development/GitHub-ProjectV2.0/MaaSSim/docs/tutorials/Results/Simulation/Driver/nP=100; nV=10; Rep= 3//veh3.csv\")"
   ]
  },
  {
   "cell_type": "code",
   "execution_count": 22,
   "id": "056bd5d2",
   "metadata": {},
   "outputs": [],
   "source": [
    "df4veh3=pd.read_csv(\"D:/Development/GitHub-ProjectV2.0/MaaSSim/docs/tutorials/Results/Simulation/Driver/nP=100; nV=10; Rep= 4//veh3.csv\")"
   ]
  },
  {
   "cell_type": "code",
   "execution_count": 23,
   "id": "2633d6bd",
   "metadata": {},
   "outputs": [],
   "source": [
    "Meanofveh3=(df1veh3['PROFIT'][0]+df2veh3['PROFIT'][0]+df3veh3['PROFIT'][0]+df4veh3['PROFIT'][0])/4"
   ]
  },
  {
   "cell_type": "code",
   "execution_count": 24,
   "id": "ceb1fc2f",
   "metadata": {},
   "outputs": [
    {
     "data": {
      "text/plain": [
       "20.70415"
      ]
     },
     "execution_count": 24,
     "metadata": {},
     "output_type": "execute_result"
    }
   ],
   "source": [
    "Meanofveh3"
   ]
  },
  {
   "cell_type": "code",
   "execution_count": 14,
   "id": "2c51460a",
   "metadata": {},
   "outputs": [
    {
     "data": {
      "image/png": "[encoded data removed]",
      "text/plain": [
       "<Figure size 720x432 with 1 Axes>"
      ]
     },
     "metadata": {},
     "output_type": "display_data"
    }
   ],
   "source": [
    "import seaborn as sns\n",
    "import pandas as pd\n",
    "import matplotlib.pyplot as plt\n",
    "import matplotlib.font_manager as fm\n",
    "\n",
    "# Define the data\n",
    "data = {\n",
    "    \"year\": [\"10000\", \"10000\", \"10000\", \"10000\", \"10000\", \"20000\", \"20000\", \"20000\", \"20000\", \"20000\", \"30000\", \"30000\", \"30000\", \"30000\", \"30000\"],\n",
    "    \"algorithm\": [\"fair\", \"fifo\", \"capicity\", \"gpa\", \"proposed\", \"fair\", \"fifo\", \"capicity\", \"gpa\", \"proposed\", \"fair\", \"fifo\", \"capicity\", \"gpa\", \"proposed\"],\n",
    "    \"count\": [43, 52, 37, 35, 33, 82, 101, 71, 69, 61, 119, 146, 97, 98, 82]\n",
    "}\n",
    "\n",
    "# Convert the data into a Pandas DataFrame\n",
    "df = pd.DataFrame(data)\n",
    "\n",
    "# Set the figure size\n",
    "plt.figure(figsize=(10, 6))\n",
    "\n",
    "# Use a professional font for the plot (adjust the path accordingly)\n",
    "font_path = \"C:/Users/usman/Downloads/Open_Sans/static/OpenSans-Regular.ttf\"  # Replace with the path to your font file\n",
    "custom_font = fm.FontProperties(fname=font_path, size=12)\n",
    "\n",
    "# Create a barplot (histogram) for each load balancing algorithm\n",
    "sns.barplot(\n",
    "    data=df,\n",
    "    x=\"year\",\n",
    "    y=\"count\",\n",
    "    hue=\"algorithm\",\n",
    "    palette={\"fair\": \"blue\", \"fifo\": \"orange\", \"capicity\": \"green\", \"gpa\": \"red\", \"proposed\": \"purple\"}\n",
    ")\n",
    "\n",
    "# Add labels and title with custom fonts\n",
    "plt.xlabel(\"Number of movies processed\", fontproperties=custom_font)\n",
    "plt.ylabel(\"Count\", fontproperties=custom_font)\n",
    "plt.title(\"Histogram of Load Balancing Algorithms\", fontproperties=custom_font)\n",
    "\n",
    "# Customize tick label fonts\n",
    "plt.xticks(fontproperties=custom_font)\n",
    "plt.yticks(fontproperties=custom_font)\n",
    "\n",
    "# Show the legend with custom font\n",
    "legend = plt.legend(title=\"Algorithm\", prop=custom_font)\n",
    "legend.get_title().set_fontsize(12)  # Adjust the legend title font size\n",
    "\n",
    "# Customize plot aesthetics (optional)\n",
    "#sns.set_style(\"whitegrid\")  # Use a white grid background\n",
    "#sns.despine()  # Remove the top and right spines\n",
    "\n",
    "# Save the plot as a publication-quality image (e.g., PDF)\n",
    "#plt.savefig(\"load_balancing_histogram.pdf\", bbox_inches=\"tight\", format=\"pdf\", dpi=300)\n",
    "\n",
    "# Show the plot\n",
    "plt.show()\n"
   ]
  },
  {
   "cell_type": "code",
   "execution_count": 15,
   "id": "ae823b38-2131-42dc-bd2b-98ce8e56659a",
   "metadata": {},
   "outputs": [
    {
     "data": {
      "image/png": "[encoded data removed]",
      "text/plain": [
       "<Figure size 720x432 with 1 Axes>"
      ]
     },
     "metadata": {},
     "output_type": "display_data"
    }
   ],
   "source": [
    "import seaborn as sns\n",
    "import pandas as pd\n",
    "import matplotlib.pyplot as plt\n",
    "import matplotlib.font_manager as fm\n",
    "\n",
    "# Define the data\n",
    "data = {\n",
    "    \"year\": [\"10000\", \"10000\", \"10000\", \"10000\", \"10000\", \"20000\", \"20000\", \"20000\", \"20000\", \"20000\", \"30000\", \"30000\", \"30000\", \"30000\", \"30000\"],\n",
    "    \"algorithm\": [\"fair\", \"fifo\", \"capicity\", \"gpa\", \"proposed\", \"fair\", \"fifo\", \"capicity\", \"gpa\", \"proposed\", \"fair\", \"fifo\", \"capicity\", \"gpa\", \"proposed\"],\n",
    "    \"count\": [43, 52, 37, 35, 33, 82, 101, 71, 69, 61, 119, 146, 97, 98, 82]\n",
    "}\n",
    "\n",
    "# Convert the data into a Pandas DataFrame\n",
    "df = pd.DataFrame(data)\n",
    "\n",
    "# Set the figure size\n",
    "plt.figure(figsize=(10, 6))\n",
    "\n",
    "# Use a professional font for the plot (adjust the path accordingly)\n",
    "font_path = \"C:/Users/usman/Downloads/Open_Sans/static/OpenSans-Regular.ttf\"  # Replace with the path to your font file\n",
    "custom_font = fm.FontProperties(fname=font_path, size=12)\n",
    "\n",
    "# Create a barplot (histogram) for each load balancing algorithm\n",
    "sns.barplot(\n",
    "    data=df,\n",
    "    x=\"year\",\n",
    "    y=\"count\",\n",
    "    hue=\"algorithm\",\n",
    "    palette=\"tab10\"\n",
    ")\n",
    "\n",
    "# Add labels and title with custom fonts\n",
    "plt.xlabel(\"Number of movies processed\", fontproperties=custom_font)\n",
    "plt.ylabel(\"Count\", fontproperties=custom_font)\n",
    "plt.title(\"Histogram of Load Balancing Algorithms\", fontproperties=custom_font)\n",
    "\n",
    "# Customize tick label fonts\n",
    "plt.xticks(fontproperties=custom_font)\n",
    "plt.yticks(fontproperties=custom_font)\n",
    "\n",
    "# Show the legend with custom font\n",
    "legend = plt.legend(title=\"Algorithm\", prop=custom_font)\n",
    "legend.get_title().set_fontsize(12)  # Adjust the legend title font size\n",
    "\n",
    "# Save the plot as a publication-quality image (e.g., PDF)\n",
    "#plt.savefig(\"load_balancing_histogram.pdf\", bbox_inches=\"tight\", format=\"pdf\", dpi=300)\n",
    "\n",
    "# Show the plot\n",
    "plt.show()"
   ]
  },
  {
   "cell_type": "code",
   "execution_count": 22,
   "id": "d685a63a-4f76-4c89-b78b-6a29b9402362",
   "metadata": {},
   "outputs": [
    {
     "data": {
      "image/png": "[encoded data removed]",
      "text/plain": [
       "<Figure size 720x432 with 1 Axes>"
      ]
     },
     "metadata": {},
     "output_type": "display_data"
    }
   ],
   "source": [
    "import seaborn as sns\n",
    "import pandas as pd\n",
    "import matplotlib.pyplot as plt\n",
    "import matplotlib.font_manager as fm\n",
    "\n",
    "# Define the data\n",
    "data = {\n",
    "    \"year\": [\"10000\", \"10000\", \"10000\", \"10000\", \"10000\", \"20000\", \"20000\", \"20000\", \"20000\", \"20000\", \"30000\", \"30000\", \"30000\", \"30000\", \"30000\"],\n",
    "    \"algorithm\": [\"fair\", \"fifo\", \"capicity\", \"gpa\", \"proposed\", \"fair\", \"fifo\", \"capicity\", \"gpa\", \"proposed\", \"fair\", \"fifo\", \"capicity\", \"gpa\", \"proposed\"],\n",
    "    \"count\": [43, 52, 37, 35, 33, 82, 101, 71, 69, 61, 119, 146, 97, 98, 82]\n",
    "}\n",
    "\n",
    "# Convert the data into a Pandas DataFrame\n",
    "df = pd.DataFrame(data)\n",
    "\n",
    "# Set the figure size\n",
    "plt.figure(figsize=(10, 6))\n",
    "\n",
    "# Use a professional font for the plot (adjust the path accordingly)\n",
    "font_path = \"C:/Users/usman/Downloads/Open_Sans/static/OpenSans-Regular.ttf\"  # Replace with the path to your font file\n",
    "custom_font = fm.FontProperties(fname=font_path, size=12)\n",
    "\n",
    "# Create a barplot (histogram) with error bars for each load balancing algorithm\n",
    "sns.barplot(\n",
    "    data=df,\n",
    "    x=\"year\",\n",
    "    y=\"count\",\n",
    "    hue=\"algorithm\",\n",
    "    palette=\"Set2\",\n",
    "  )\n",
    "\n",
    "# Add labels and title with custom fonts\n",
    "plt.xlabel(\"Number of movies processed at a time\", fontproperties=custom_font)\n",
    "plt.ylabel(\"Completion time of the Job (Minutes)\", fontproperties=custom_font)\n",
    "#plt.title(\"Histogram of Load Balancing Algorithms\", fontproperties=custom_font)\n",
    "\n",
    "# Customize tick label fonts\n",
    "plt.xticks(fontproperties=custom_font)\n",
    "plt.yticks(fontproperties=custom_font)\n",
    "\n",
    "# Show the legend with custom font\n",
    "legend = plt.legend(title=\"Algorithm\", prop=custom_font)\n",
    "legend.get_title().set_fontsize(12)  # Adjust the legend title font size\n",
    "\n",
    "# Add a caption to the plot\n",
    "plt.annotate(\n",
    "    \"Error bars show 95% confidence intervals\",\n",
    "    xy=(0.5, -1),\n",
    "    horizontalalignment=\"center\",\n",
    "    verticalalignment=\"bottom\",\n",
    "    fontsize=10,\n",
    "    fontproperties=custom_font\n",
    ")\n",
    "\n",
    "# Save the plot as a publication-quality image (e.g., PDF)\n",
    "plt.savefig(\"D:\\Development/GitHub-ProjectV2.0/Testing/load_balancing_histogram.pdf\", bbox_inches=\"tight\", format=\"pdf\", dpi=600)\n",
    "\n",
    "# Show the plot\n",
    "plt.show()"
   ]
  },
  {
   "cell_type": "code",
   "execution_count": 32,
   "id": "d9631f98-480a-4ee2-9839-2d2b4a1a0bcf",
   "metadata": {},
   "outputs": [
    {
     "ename": "SyntaxError",
     "evalue": "unmatched ')' (2762129812.py, line 54)",
     "output_type": "error",
     "traceback": [
      "\u001b[1;36m  Input \u001b[1;32mIn [32]\u001b[1;36m\u001b[0m\n\u001b[1;33m    plt.show(), fontproperties=custom_font)\u001b[0m\n\u001b[1;37m                                          ^\u001b[0m\n\u001b[1;31mSyntaxError\u001b[0m\u001b[1;31m:\u001b[0m unmatched ')'\n"
     ]
    }
   ],
   "source": [
    "import pandas as pd\n",
    "import matplotlib.pyplot as plt\n",
    "import matplotlib.font_manager as fm\n",
    "\n",
    "# Create a dictionary to store the data\n",
    "data = {\n",
    "    \"year\": [\"Slave_1\", \"Slave_2\", \"Slave_3\", \"Slave_4\"],\n",
    "    \"fifo\": [8200, 12000, 10000, 9000],\n",
    "    \"fair\": [9500, 8800, 9800, 11100],\n",
    "    \"capacity\": [9100, 10100, 11000, 9000],\n",
    "    \"gpa\": [11200, 10800, 9500, 7700],\n",
    "    \"proposed\": [9800, 10100, 10000, 10100]\n",
    "}\n",
    "\n",
    "# Convert the dictionary into a Pandas DataFrame\n",
    "df = pd.DataFrame(data)\n",
    "\n",
    "# Convert the load_count column to a numeric value\n",
    "#df[\"load_count\"] = pd.to_numeric(df[\"load_count\"])\n",
    "\n",
    "# Set the figure size\n",
    "plt.figure(figsize=(10, 6))\n",
    "\n",
    "# Use a professional font for the plot (adjust the path accordingly)\n",
    "font_path = \"C:/Users/usman/Downloads/Open_Sans/static/OpenSans-Regular.ttf\"  # Replace with the path to your font file\n",
    "custom_font = fm.FontProperties(fname=font_path, size=12)\n",
    "\n",
    "# Create a histogram for each load balancing algorithm\n",
    "sns.histplot(\n",
    "    data=df,\n",
    "    x=\"year\",\n",
    "    y=\"data\",\n",
    "    hue=\"algorithm\",\n",
    "    palette=\"Set2\",\n",
    ")\n",
    "\n",
    "# Add labels and title with custom fonts\n",
    "plt.xlabel(\"Slave\", fontproperties=custom_font)\n",
    "plt.ylabel(\"Load Count\", fontproperties=custom_font)\n",
    "plt.title(\"Histogram of Load Balancing Algorithms\", fontproperties=custom_font)\n",
    "\n",
    "# Customize tick label fonts\n",
    "plt.xticks(fontproperties=custom_font)\n",
    "plt.yticks(fontproperties=custom_font)\n",
    "\n",
    "# Show the legend with custom font\n",
    "legend = plt.legend(title=\"Algorithm\", prop=custom_font)\n",
    "legend.get_title().set_fontsize(12)  # Adjust the legend title font size\n",
    "\n",
    "# Save the plot as a publication-quality image (e.g., PDF)\n",
    "#plt.savefig(\"load_balancing_histogram.pdf\", bbox_inches=\"tight\", format=\"pdf\", dpi=600)\n",
    "\n",
    "# Show the plot\n",
    "plt.show(), fontproperties=custom_font)\n",
    "\n",
    "# Customize tick label fonts\n",
    "plt.xticks(fontproperties=custom_font)\n",
    "plt.yticks(fontproperties=custom_font)\n",
    "\n",
    "# Show the legend with custom font\n",
    "legend = plt.legend(title=\"Algorithm\", prop=custom_font)\n",
    "legend.get_title().set_fontsize(12)  # Adjust the legend title font size\n",
    "\n",
    "# Save the plot as a publication-quality image (e.g., PDF)\n",
    "#plt.savefig(\"load_balancing_scatter.pdf\", bbox_inches=\"tight\", format=\"pdf\", dpi=600)\n",
    "\n",
    "# Show the plot\n",
    "plt.show()"
   ]
  },
  {
   "cell_type": "code",
   "execution_count": 40,
   "id": "16cd895b-dadf-48bc-9ca6-6cf120154438",
   "metadata": {},
   "outputs": [
    {
     "data": {
      "image/png": "[encoded data removed]",
      "text/plain": [
       "<Figure size 720x432 with 1 Axes>"
      ]
     },
     "metadata": {},
     "output_type": "display_data"
    }
   ],
   "source": [
    "import seaborn as sns\n",
    "import pandas as pd\n",
    "import matplotlib.pyplot as plt\n",
    "import matplotlib.font_manager as fm\n",
    "\n",
    "# Define the data\n",
    "data = {\n",
    "    \"year\": [\"Slave_1\", \"Slave_2\", \"Slave_3\", \"Slave_4\"],\n",
    "    \"fifo\": [8200, 12000, 10000, 9000],\n",
    "    \"fair\": [9500, 8800, 9800, 11100],\n",
    "    \"capacity\": [9100, 10100, 11000, 9000],\n",
    "    \"gpa\": [11200, 10800, 9500, 7700],\n",
    "    \"proposed\": [9800, 10100, 10000, 10100]\n",
    "}\n",
    "\n",
    "# Convert the data into a Pandas DataFrame\n",
    "df = pd.DataFrame(data)\n",
    "\n",
    "# Set the figure size\n",
    "plt.figure(figsize=(10, 6))\n",
    "\n",
    "# Use a professional font for the plot (adjust the path accordingly)\n",
    "font_path = \"C:/Users/usman/Downloads/Open_Sans/static/OpenSans-Regular.ttf\"  # Replace with the path to your font file\n",
    "custom_font = fm.FontProperties(fname=font_path, size=12)\n",
    "\n",
    "# Create a barplot (histogram) for each load balancing algorithm\n",
    "sns.barplot(\n",
    "    data=df.melt(id_vars=\"year\", var_name=\"algorithm\", value_name=\"count\"),\n",
    "    x=\"year\",\n",
    "    y=\"count\",\n",
    "    hue=\"algorithm\",\n",
    "    palette=\"Set2\",\n",
    ")\n",
    "\n",
    "# Add labels and title with custom fonts\n",
    "plt.xlabel(\"Running on the Slaves \", fontproperties=custom_font)\n",
    "plt.ylabel(\"Measuring the Load Count\", fontproperties=custom_font)\n",
    "#plt.title(\"Load Count Histogram\", fontproperties=custom_font)\n",
    "\n",
    "# Customize tick label fonts\n",
    "plt.xticks(fontproperties=custom_font)\n",
    "plt.yticks(fontproperties=custom_font)\n",
    "\n",
    "# Show the legend with custom font\n",
    "legend = plt.legend(title=\"Algorithm\", prop=custom_font)\n",
    "legend.get_title().set_fontsize(12)  # Adjust the legend title font size\n",
    "\n",
    "# Add a caption to the plot\n",
    "\n",
    "\n",
    "# Save the plot as a publication-quality image (e.g., PDF)\n",
    "#plt.savefig(\"load_balancing_histogram.pdf\", bbox_inches=\"tight\", format=\"pdf\", dpi=600)\n",
    "# Save the plot as a publication-quality image (e.g., PDF)\n",
    "plt.savefig(\"D:\\Development/GitHub-ProjectV2.0/Testing/loadcount_histogram.pdf\", bbox_inches=\"tight\", format=\"pdf\", dpi=600)\n",
    "\n",
    "# Show the plot\n",
    "plt.show()\n"
   ]
  },
  {
   "cell_type": "code",
   "execution_count": 39,
   "id": "b5f9813f-ce7f-4a6e-8e64-748db044d02e",
   "metadata": {},
   "outputs": [
    {
     "ename": "SyntaxError",
     "evalue": "incomplete input (1870832501.py, line 37)",
     "output_type": "error",
     "traceback": [
      "\u001b[1;36m  Input \u001b[1;32mIn [39]\u001b[1;36m\u001b[0m\n\u001b[1;33m    plt.ylabel(\"Measuring the Load Count\",\u001b[0m\n\u001b[1;37m                                          ^\u001b[0m\n\u001b[1;31mSyntaxError\u001b[0m\u001b[1;31m:\u001b[0m incomplete input\n"
     ]
    }
   ],
   "source": [
    "import seaborn as sns\n",
    "import pandas as pd\n",
    "import matplotlib.pyplot as plt\n",
    "import matplotlib.font_manager as fm\n",
    "\n",
    "# Define the data\n",
    "data = {\n",
    "\"year\": [\"Slave_1\", \"Slave_2\", \"Slave_3\", \"Slave_4\"],\n",
    "\"fifo\": [8200, 12000, 10000, 9000],\n",
    "\"fair\": [9500, 8800, 9800, 11100],\n",
    "\"capacity\": [9100, 10100, 11000, 9000],\n",
    "\"gpa\": [11200, 10800, 9500, 7700],\n",
    "\"proposed\": [9800, 10100, 10000, 10100]\n",
    "}\n",
    "\n",
    "# Convert the data into a Pandas DataFrame\n",
    "df = pd.DataFrame(data)\n",
    "\n",
    "# Set the figure size\n",
    "plt.figure(figsize=(10, 6))\n",
    "\n",
    "# Use a professional font for the plot (adjust the path accordingly)\n",
    "font_path = \"C:/Users/usman/Downloads/Open_Sans/static/OpenSans-Regular.ttf\"\n",
    "custom_font = fm.FontProperties(fname=font_path, size=12)\n",
    "\n",
    "# Create a barplot (histogram) for each load balancing algorithm\n",
    "sns.barplot(\n",
    "data=df.melt(id_vars=\"year\", var_name=\"algorithm\", value_name=\"count\"),\n",
    "x=\"year\",\n",
    "y=\"count\",\n",
    "hue=\"algorithm\",\n",
    "palette=\"Set2\",\n",
    ")\n",
    "\n",
    "# Add labels and title with custom fonts\n",
    "plt.xlabel(\"Running on the Slaves\", fontproperties=custom_font)\n",
    "plt.ylabel(\"Measuring the Load Count\","
   ]
  },
  {
   "cell_type": "code",
   "execution_count": null,
   "id": "efa8c91c-c001-4c5c-aa50-db534e8eb941",
   "metadata": {},
   "outputs": [],
   "source": []
  }
 ],
 "metadata": {
  "kernelspec": {
   "display_name": "Python 3 (ipykernel)",
   "language": "python",
   "name": "python3"
  },
  "language_info": {
   "codemirror_mode": {
    "name": "ipython",
    "version": 3
   },
   "file_extension": ".py",
   "mimetype": "text/x-python",
   "name": "python",
   "nbconvert_exporter": "python",
   "pygments_lexer": "ipython3",
   "version": "3.10.5"
  }
 },
 "nbformat": 4,
 "nbformat_minor": 5
}
